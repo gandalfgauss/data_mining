{
  "nbformat": 4,
  "nbformat_minor": 0,
  "metadata": {
    "colab": {
      "provenance": [],
      "collapsed_sections": []
    },
    "kernelspec": {
      "name": "python3",
      "display_name": "Python 3"
    },
    "language_info": {
      "name": "python"
    }
  },
  "cells": [
    {
      "cell_type": "markdown",
      "source": [
        "#**Trabalho de Mineração de dados**\n",
        "\n",
        "\n",
        "**Alunos:** Halliday Gauss e Guilherme Augusto\n",
        "\n"
      ],
      "metadata": {
        "id": "WIWVoFR301_e"
      }
    },
    {
      "cell_type": "markdown",
      "source": [
        "# **O Problema:** Spaceship Titanic"
      ],
      "metadata": {
        "id": "jH3JSRse1TiW"
      }
    },
    {
      "cell_type": "markdown",
      "source": [
        "No ano de 2912, foi recebido uma transmissão de quatro anos-luz de distância.\n",
        "\n",
        "A nave espacial Titanic com quase 13.000 passageiros a bordo, partiu em sua viagem inaugural transportando emigrantes do nosso sistema solar para três exoplanetas recém-habitáveis ​​orbitando estrelas próximas.\n",
        "\n",
        "Durante o percurso a nave colidiu com uma anomalia do espaço-tempo escondida dentro de uma nuvem de poeira. Embora a nave tenha permanecido intacta, quase metade dos passageiros foi transportada para uma dimensão alternativa!\n",
        "\n",
        "Para ajudar as equipes de resgate e recuperar os passageiros perdidos, você é desafiado a prever quais passageiros foram transportados pela anomalia usando registros recuperados do sistema de computador danificado da nave espacial.\n",
        "\n"
      ],
      "metadata": {
        "id": "PUq6dxLt17vT"
      }
    },
    {
      "cell_type": "markdown",
      "source": [
        "# **Motivação:** \n",
        "\n",
        "Deseja-se ajudar a salvar os seres humanos e mudar a história !\n",
        "\n",
        "Após uma análise dessa base de dados tirada do Kaggle é possível perceber dados inconsistentes, irrelavantes e nulos. Portanto, é uma boa oportunidade para treinar os conhecimentos de Mineração de Dados e uma posterior Classificação (predição) através de algoritmos de Inteligência Artificial."
      ],
      "metadata": {
        "id": "JzKOfQMe3kQu"
      }
    },
    {
      "cell_type": "markdown",
      "source": [
        "# Objetivo:\n",
        "\n",
        "O objetivo do trabalho é realizar a mineração dos dados na base de dados, de maneira que os mesmos se tornem úteis para que a aplicação de um algoritmo de classificação seja eficiente e aceitável.\n",
        "\n",
        "Através de um conjunto de teste deve-se realizar a predição dos dados, visando saber se os passageiros foram parar em outra dimensão ou não."
      ],
      "metadata": {
        "id": "zC-rGR164xCe"
      }
    },
    {
      "cell_type": "markdown",
      "source": [
        "#Descrição dos Atributos\n",
        "------------------------------------------------------------------------\n",
        "\n",
        "**PassengerId** \n",
        "\n",
        " - Um ID exclusivo para cada passageiro.\n",
        "\n",
        " - Atributo Categórico Ordinal\n",
        "\n",
        "------------------------------------------------------------------------\n",
        "\n",
        "**HomePlanet** \n",
        "- O planeta de onde o passageiro partiu, normalmente seu planeta de residência permanente.\n",
        "- Atributo Categórico Nominal\n",
        "\n",
        "------------------------------------------------------------------------\n",
        "**CryoSleep** \n",
        "- Indica se o passageiro optou por ser colocado em animação suspensa durante a viagem.\n",
        "- Atributo Binário Simétrico\n",
        "\n",
        "------------------------------------------------------------------------\n",
        "\n",
        "**Cabin** \n",
        "- O número da cabine onde o passageiro está hospedado.\n",
        "- Atributo Categórico Ordinal\n",
        "\n",
        "------------------------------------------------------------------------\n",
        "\n",
        "**Destination** \n",
        "- O planeta para o qual o passageiro irá desembarcar.\n",
        "- Atributo Categórico Nominal\n",
        "------------------------------------------------------------------------\n",
        "\n",
        "**Age** \n",
        "- A idade do passageiro.\n",
        "- Atributo Discreto\n",
        "\n",
        "------------------------------------------------------------------------\n",
        "\n",
        "**VIP** \n",
        "- Se o passageiro pagou pelo serviço VIP especial durante a viagem.\n",
        "- Atributo Binário Simétrico\n",
        "\n",
        "------------------------------------------------------------------------\n",
        "\n",
        "**RoomService** \n",
        "- Valor que o passageiro cobrou pelo serviço de quarto.\n",
        "- Atributo Contínuo\n",
        "\n",
        "------------------------------------------------------------------------\n",
        "\n",
        "**FoodCourt** \n",
        "- Valor que o passageiro gastou na praça de alimentação.\n",
        "- Atributo Contínuo\n",
        "\n",
        "------------------------------------------------------------------------\n",
        "\n",
        "**ShoppingMall** \n",
        "- Valor que o passageiro gastou no shopping.\n",
        "- Atributo Contínuo\n",
        "\n",
        "------------------------------------------------------------------------\n",
        "\n",
        "**Spa** \n",
        "- Valor que o passageiro gastou no spa.\n",
        "- Atributo Contínuo\n",
        "\n",
        "------------------------------------------------------------------------\n",
        "**VRDeck** \n",
        "- Valor que o passageiro gastou no deck de RV.\n",
        "- Atributo Contínuo\n",
        "\n",
        "------------------------------------------------------------------------\n",
        "\n",
        "**Name** \n",
        "- O nome do passageiro.\n",
        "- Atributo Categórico Nominal\n",
        "------------------------------------------------------------------------\n",
        "\n",
        "**Transported** \n",
        "- Se o passageiro foi transportado para outra dimensão.\n",
        "- Atributo Binário Simétrico (O que deve ser predito)\n",
        "------------------------------------------------------------------------"
      ],
      "metadata": {
        "id": "QnfXucw16W1W"
      }
    },
    {
      "cell_type": "markdown",
      "source": [
        "#Importações"
      ],
      "metadata": {
        "id": "hLO2fgZOB3ok"
      }
    },
    {
      "cell_type": "code",
      "source": [
        "# Bibliotecas processamento\n",
        "import numpy as np\n",
        "import pandas as pd\n",
        "import matplotlib.pyplot as plt\n",
        "from collections import Counter\n",
        "\n",
        "#Biblioteca seaborn\n",
        "import seaborn as sns\n",
        "\n",
        "from sklearn.impute import SimpleImputer # Fit e Transform em dados nulos\n",
        "from sklearn.preprocessing import OneHotEncoder # Fazer one hot encoder\n",
        "from sklearn.preprocessing import LabelEncoder #Label Enconder substitui as classes por números.\n",
        "from sklearn import preprocessing # Para fazer a normalização dos dados\n",
        "\n",
        "\n",
        "from mlxtend.frequent_patterns import apriori # Biblioteca para encontrar transações frequentes\n",
        "from mlxtend.frequent_patterns import association_rules # Biblioteca para gerar as regras de associação\n",
        "from mlxtend.preprocessing import TransactionEncoder # Para fazer o One Hot"
      ],
      "metadata": {
        "id": "45qaCsWrB5-8"
      },
      "execution_count": null,
      "outputs": []
    },
    {
      "cell_type": "markdown",
      "source": [
        "# Ler base de dados"
      ],
      "metadata": {
        "id": "Fpmtg6M_BG1O"
      }
    },
    {
      "cell_type": "code",
      "execution_count": null,
      "metadata": {
        "id": "NLu4ZNynqqnX"
      },
      "outputs": [],
      "source": [
        "df = pd.read_csv(\"train.csv\")"
      ]
    },
    {
      "cell_type": "code",
      "source": [
        "# Tamanho da base de Dados\n",
        "tamanho_do_df = len(df.index)\n",
        "print(\"Tamanho da base de dados:\", tamanho_do_df, \"\\n\\n\")\n",
        "\n",
        "print(\"Algumas instâncias da base de dados:\")\n",
        "df.head()"
      ],
      "metadata": {
        "id": "PCxArMXiD-9N"
      },
      "execution_count": null,
      "outputs": []
    },
    {
      "cell_type": "markdown",
      "source": [
        "# Funções Auxiliares"
      ],
      "metadata": {
        "id": "nHcM_2TsLCLb"
      }
    },
    {
      "cell_type": "markdown",
      "source": [
        "Função que vai gerar um gráfico de pizza dos atributos nominais."
      ],
      "metadata": {
        "id": "pOAAomMIUFLK"
      }
    },
    {
      "cell_type": "code",
      "source": [
        "def plotar_grafico_de_pizza_nominal(df, nome_do_atributo, titulo = None):\n",
        "\n",
        "  rotulos = list(df[nome_do_atributo].unique())\n",
        "\n",
        "  data = [df[nome_do_atributo].eq(rot).sum() for rot in rotulos]\n",
        "\n",
        "  if df[nome_do_atributo].isnull().sum() > 0:\n",
        "    data[-1] = df[nome_do_atributo].isnull().sum() \n",
        "  \n",
        "  if titulo is None:\n",
        "    titulo = \"Distribuição do atributo - \" + nome_do_atributo\n",
        "\n",
        "  explode = [0.1*i for i in range(len(rotulos))]\n",
        "\n",
        "  wp = { 'linewidth' : 1, 'edgecolor' : \"green\" } \n",
        "  def func(pct, allvalues): \n",
        "    absolute = int(pct / 100.*np.sum(allvalues)) \n",
        "    return \"{:.1f}%\\n({:d} g)\".format(pct, absolute) \n",
        "  fig, ax = plt.subplots(figsize =(10, 7)) \n",
        "  wedges, texts, autotexts = ax.pie(data,  \n",
        "                                  autopct = lambda pct: func(pct, data), \n",
        "                                  explode = explode,  \n",
        "                                  labels = rotulos, \n",
        "                                  shadow = True,  \n",
        "                                  startangle = 90, \n",
        "                                  wedgeprops = wp, \n",
        "                                  textprops = dict(color =\"magenta\")) \n",
        "  ax.legend(wedges, rotulos, \n",
        "          loc =\"center left\", \n",
        "          bbox_to_anchor =(1, 0, 0.5, 1)) \n",
        "  \n",
        "  plt.setp(autotexts, size = 8, weight =\"bold\") \n",
        "  ax.set_title(titulo) \n",
        "  plt.show() \n",
        "  plt.show() "
      ],
      "metadata": {
        "id": "VPcxoxu4UE1B"
      },
      "execution_count": null,
      "outputs": []
    },
    {
      "cell_type": "markdown",
      "source": [
        "Função que vai plotar o gráfico de pizza da quantidade de atributos nulos e não nulos."
      ],
      "metadata": {
        "id": "HCPRlN0mLOjn"
      }
    },
    {
      "cell_type": "code",
      "source": [
        "def plotar_grafico_de_pizza_nulos(df, nome_do_atributo):\n",
        "\n",
        "  print(\"\\nGráfico de Pizza - Valores Nulos - \" + nome_do_atributo)\n",
        "  titulo = \"\\nGráfico de Pizza - Valores Nulos - \" + nome_do_atributo\n",
        "  nulos = ['Nulos', 'Não Nulos'] \n",
        "  data = [df[nome_do_atributo].isnull().sum(), df[nome_do_atributo].count()] \n",
        "\n",
        "  explode = (0.1, 0.0) \n",
        "  colors = (\"beige\", \"orange\") \n",
        "  wp = { 'linewidth' : 1, 'edgecolor' : \"green\" } \n",
        "  def func(pct, allvalues): \n",
        "    absolute = int(pct / 100.*np.sum(allvalues)) \n",
        "    return \"{:.1f}%\\n({:d} g)\".format(pct, absolute) \n",
        "  fig, ax = plt.subplots(figsize =(10, 7)) \n",
        "  wedges, texts, autotexts = ax.pie(data,  \n",
        "                                  autopct = lambda pct: func(pct, data), \n",
        "                                  explode = explode,  \n",
        "                                  labels = nulos, \n",
        "                                  shadow = True, \n",
        "                                  colors = colors, \n",
        "                                  startangle = 90, \n",
        "                                  wedgeprops = wp, \n",
        "                                  textprops = dict(color =\"magenta\")) \n",
        "  ax.legend(wedges, nulos, \n",
        "          loc =\"center left\", \n",
        "          bbox_to_anchor =(1, 0, 0.5, 1)) \n",
        "  \n",
        "  plt.setp(autotexts, size = 8, weight =\"bold\") \n",
        "  ax.set_title(titulo) \n",
        "  plt.show() \n",
        "  plt.show() "
      ],
      "metadata": {
        "id": "-9Yxm6Q3LGM0"
      },
      "execution_count": null,
      "outputs": []
    },
    {
      "cell_type": "markdown",
      "source": [
        "Função que vai fazer a análise estatística do atributo."
      ],
      "metadata": {
        "id": "sOjkafe4LXkb"
      }
    },
    {
      "cell_type": "code",
      "source": [
        "def analise_estatistica_atributo(df, nome_do_atributo): \n",
        "  # Analisar Atributo - Age\n",
        "  print(\"Análise Estatística do atributo -\", nome_do_atributo)\n",
        "  print(\"Valor médio:\", round(df[nome_do_atributo].mean(),2))\n",
        "  print(\"Valor máximo:\",round(df[nome_do_atributo].max(), 2))\n",
        "  print(\"Valor mínimo:\", round(df[nome_do_atributo].min(), 2))\n",
        "  print(\"Valor desvio padrão:\", round(df[nome_do_atributo].std(), 2))\n",
        "  print(\"25% do valores contidos até:\", round(df[nome_do_atributo].describe()[4], 2))\n",
        "  print(\"50% do valores contidos até:\", round(df[nome_do_atributo].describe()[5], 2))\n",
        "  print(\"75% do valores contidos até:\", round(df[nome_do_atributo].describe()[6], 2))"
      ],
      "metadata": {
        "id": "Jk5htBObLWQM"
      },
      "execution_count": null,
      "outputs": []
    },
    {
      "cell_type": "markdown",
      "source": [
        "Função que vai plotar o histograma de um atributo."
      ],
      "metadata": {
        "id": "OH4DFiK1MVyB"
      }
    },
    {
      "cell_type": "code",
      "source": [
        "def plotar_histograma_atributo(df, nome_do_atributo):\n",
        "  print(\"Histograma\")\n",
        "\n",
        "  plt.title(\"Histograma - \" + nome_do_atributo, fontsize=20)\n",
        "  plt.xlabel(nome_do_atributo)\n",
        "  plt.ylabel('Quantidade')\n",
        "  plt.hist(df[nome_do_atributo], rwidth=0.9)\n",
        "\n",
        "  plt.show()"
      ],
      "metadata": {
        "id": "9eOoa-fVMcMR"
      },
      "execution_count": null,
      "outputs": []
    },
    {
      "cell_type": "markdown",
      "source": [
        "Função que vai plotar o gráfico de dispersão de um atributo."
      ],
      "metadata": {
        "id": "OsOjMxXkNuZd"
      }
    },
    {
      "cell_type": "code",
      "source": [
        "def plotar_grafico_de_dispersao_atributo(df, nome_do_atributo):\n",
        "  print(\"\\nGráfico de Dispersão\")\n",
        "  plt.scatter(df[nome_do_atributo], range(len(df[nome_do_atributo])))\n",
        "  plt.xlabel(nome_do_atributo)\n",
        "  plt.ylabel('Instância')\n",
        "  plt.title('Gráfico de Dispersão - ' + nome_do_atributo)\n",
        "  plt.show()"
      ],
      "metadata": {
        "id": "C4VPDOImNyCw"
      },
      "execution_count": null,
      "outputs": []
    },
    {
      "cell_type": "markdown",
      "source": [
        "Função que vai plotar relação do atributo com o rótulo através de um bloxplot."
      ],
      "metadata": {
        "id": "zub6oar7OdVK"
      }
    },
    {
      "cell_type": "code",
      "source": [
        "def plotar_relacao_atributo_rotulo_bloxplot(df, nome_do_atributo):\n",
        "  print(\"\\nRelação do atributo \" + nome_do_atributo + \" com o Rótulo\")\n",
        "  df.boxplot(by='Transported', column = nome_do_atributo)\n"
      ],
      "metadata": {
        "id": "xUejrR8XOkYj"
      },
      "execution_count": null,
      "outputs": []
    },
    {
      "cell_type": "markdown",
      "source": [
        "Função que vai plotar relação do atributo com o rótulo através de um gráfico de barras."
      ],
      "metadata": {
        "id": "LgYCDS7zPAxL"
      }
    },
    {
      "cell_type": "code",
      "source": [
        "def plotar_relacao_atributo_rotulo_barras(df, nome_do_atributo):\n",
        "  print(\"\\nRelação do atributo \" + nome_do_atributo + \" com o Rótulo\")\n",
        "\n",
        "  transported = df[df.Transported == True]\n",
        "  not_transported = df[df.Transported == False]\n",
        "\n",
        "  transported = transported[nome_do_atributo]\n",
        "  not_transported = not_transported[nome_do_atributo]\n",
        "\n",
        "  plt.figure(figsize=(8, 6))\n",
        "  plt.title('Distribuição do atributo ' + nome_do_atributo)\n",
        "  plt.xlabel(nome_do_atributo)\n",
        "  plt.ylabel('Quantidade de pessoas')\n",
        "  plt.hist(transported,\n",
        "          alpha=0.5, label='Transportado', color='#FF26E1')\n",
        "  plt.hist(not_transported,\n",
        "          alpha=0.5, label='Não Transportado', color='#2DB200')\n",
        "  plt.legend(loc='upper right')"
      ],
      "metadata": {
        "id": "hqNkhk-RPG4O"
      },
      "execution_count": null,
      "outputs": []
    },
    {
      "cell_type": "markdown",
      "source": [
        "Função que vai analisar a unicidade de cada valor do atributo."
      ],
      "metadata": {
        "id": "VF4FOW4tVEqi"
      }
    },
    {
      "cell_type": "code",
      "source": [
        "def unicidade(df, nome_do_atributo):\n",
        "  print(\"Unicidade -\", nome_do_atributo)\n",
        "  print(\"Quantidades únicas:\" , len(df[nome_do_atributo].unique()))"
      ],
      "metadata": {
        "id": "y5Srm7PNVChS"
      },
      "execution_count": null,
      "outputs": []
    },
    {
      "cell_type": "markdown",
      "source": [
        "Função que vai plotar a relação de cada possível valor do atributo nominal com o rótulo."
      ],
      "metadata": {
        "id": "lWAMZmH5WwC-"
      }
    },
    {
      "cell_type": "code",
      "source": [
        "def plotar_relacao_atributo_rotulo_pizza(df, nome_do_atributo):\n",
        "  print(\"Relação do atributo\", nome_do_atributo, \" com o Rótulo\")\n",
        "\n",
        "  rotulos = list(df[nome_do_atributo].unique())\n",
        "\n",
        "  for rotulo in rotulos:\n",
        "    plotar_grafico_de_pizza_nominal(df[df[nome_do_atributo].eq(rotulo)], \"Transported\", \"Gráfico de Distribuição do atributo - \" +\n",
        "                                    nome_do_atributo + \" - \" + str(rotulo) + \" em relação ao rótulo Transported\")\n",
        "    print(\"\\n\")"
      ],
      "metadata": {
        "id": "diIvngbuW17R"
      },
      "execution_count": null,
      "outputs": []
    },
    {
      "cell_type": "markdown",
      "source": [
        "# Análise dos Atributos Numéricos"
      ],
      "metadata": {
        "id": "cipZTIac005X"
      }
    },
    {
      "cell_type": "markdown",
      "source": [
        "Analisar -> Idade - Age"
      ],
      "metadata": {
        "id": "bpqSZibDXp0W"
      }
    },
    {
      "cell_type": "code",
      "source": [
        "analise_estatistica_atributo(df, \"Age\")"
      ],
      "metadata": {
        "id": "szzkiRJ8XmIe"
      },
      "execution_count": null,
      "outputs": []
    },
    {
      "cell_type": "code",
      "source": [
        "plotar_histograma_atributo(df, \"Age\")"
      ],
      "metadata": {
        "id": "7iqdccJuXwgC"
      },
      "execution_count": null,
      "outputs": []
    },
    {
      "cell_type": "markdown",
      "source": [
        "Existem mais pessoas entre 20 e 40 anos."
      ],
      "metadata": {
        "id": "sH143dT9Xzey"
      }
    },
    {
      "cell_type": "code",
      "source": [
        "plotar_grafico_de_pizza_nulos(df, \"Age\")"
      ],
      "metadata": {
        "id": "fmwx9YwPX7lR"
      },
      "execution_count": null,
      "outputs": []
    },
    {
      "cell_type": "markdown",
      "source": [
        "Em idade existem 178 valores nulos."
      ],
      "metadata": {
        "id": "h4-f0GopYO0o"
      }
    },
    {
      "cell_type": "code",
      "source": [
        "plotar_grafico_de_dispersao_atributo(df, \"Age\")"
      ],
      "metadata": {
        "id": "2p1mA4HvYaAV"
      },
      "execution_count": null,
      "outputs": []
    },
    {
      "cell_type": "markdown",
      "source": [
        "Em idade não existem valores aberrantes e inconsistentes."
      ],
      "metadata": {
        "id": "BC5GQ1ogYiFK"
      }
    },
    {
      "cell_type": "code",
      "source": [
        "plotar_relacao_atributo_rotulo_bloxplot(df, \"Age\")"
      ],
      "metadata": {
        "id": "ZNUa8_oqO2fD"
      },
      "execution_count": null,
      "outputs": []
    },
    {
      "cell_type": "code",
      "source": [
        "plotar_relacao_atributo_rotulo_barras(df, \"Age\")"
      ],
      "metadata": {
        "id": "dJAtch55Pic3"
      },
      "execution_count": null,
      "outputs": []
    },
    {
      "cell_type": "markdown",
      "source": [
        "Apesar dos dados estarem bem distribuídos pela idade em relação ao rótulo.\n",
        "É possível perceber que:\n",
        "  - A maioria das pessoas de 0 a 15 anos, de 40 a 45 anos, e de 55 a 70 anos, foram transportadas para outra dimensão.\n",
        "  - A maioria das pessoas de 15 a 40 anos, de 45 a 55 anos, e de 70 a 80 anos, não foram transportadas para outra dimensão."
      ],
      "metadata": {
        "id": "FgiYAiv8WPrw"
      }
    },
    {
      "cell_type": "markdown",
      "source": [
        "Analisar -> Gastos com Serviço de Quarto - RoomService"
      ],
      "metadata": {
        "id": "FGDA7PUhYw0k"
      }
    },
    {
      "cell_type": "code",
      "source": [
        "# Analisar Serviço de Quarto - RoomService\n",
        "analise_estatistica_atributo(df, \"RoomService\")"
      ],
      "metadata": {
        "id": "ql7lIK-jYznl"
      },
      "execution_count": null,
      "outputs": []
    },
    {
      "cell_type": "code",
      "source": [
        "plotar_histograma_atributo(df, \"RoomService\")"
      ],
      "metadata": {
        "id": "N4YWvj3UP9nl"
      },
      "execution_count": null,
      "outputs": []
    },
    {
      "cell_type": "markdown",
      "source": [
        "Os gastos com serviço de quarto estão mais concentrados em valores menores que 2000."
      ],
      "metadata": {
        "id": "vXCLro6tZFsR"
      }
    },
    {
      "cell_type": "code",
      "source": [
        "plotar_grafico_de_pizza_nulos(df, \"RoomService\")"
      ],
      "metadata": {
        "id": "s5nqwApzQERB"
      },
      "execution_count": null,
      "outputs": []
    },
    {
      "cell_type": "markdown",
      "source": [
        "Existem 180 valores nulos."
      ],
      "metadata": {
        "id": "OYe199N3ZeqH"
      }
    },
    {
      "cell_type": "code",
      "source": [
        "plotar_grafico_de_dispersao_atributo(df, \"RoomService\")"
      ],
      "metadata": {
        "id": "wtq9G6dRQMC6"
      },
      "execution_count": null,
      "outputs": []
    },
    {
      "cell_type": "markdown",
      "source": [
        "Valores Aberrantes -> acima de 8000\n",
        "\n",
        "Não possui valores Inconsistentes !"
      ],
      "metadata": {
        "id": "cMyJlYEFQWVD"
      }
    },
    {
      "cell_type": "code",
      "source": [
        "plotar_relacao_atributo_rotulo_bloxplot(df, \"RoomService\")"
      ],
      "metadata": {
        "id": "Q8dtN9LdQeBs"
      },
      "execution_count": null,
      "outputs": []
    },
    {
      "cell_type": "code",
      "source": [
        "plotar_relacao_atributo_rotulo_barras(df, \"RoomService\")"
      ],
      "metadata": {
        "id": "aYeB5V5AQlFC"
      },
      "execution_count": null,
      "outputs": []
    },
    {
      "cell_type": "markdown",
      "source": [
        "É possível perceber que quem gastou mais com o serviço de quarto não foi transportado para outra dimensão."
      ],
      "metadata": {
        "id": "Ew5382dSaiuc"
      }
    },
    {
      "cell_type": "markdown",
      "source": [
        "Analisar Gastos com Praça de Alimentação - FoodCourt"
      ],
      "metadata": {
        "id": "tXefdMQuavBt"
      }
    },
    {
      "cell_type": "code",
      "source": [
        "analise_estatistica_atributo(df, \"FoodCourt\")"
      ],
      "metadata": {
        "id": "RkQfOpOlQsRH"
      },
      "execution_count": null,
      "outputs": []
    },
    {
      "cell_type": "code",
      "source": [
        "plotar_histograma_atributo(df, \"FoodCourt\")"
      ],
      "metadata": {
        "id": "Rd019Ia2Qzii"
      },
      "execution_count": null,
      "outputs": []
    },
    {
      "cell_type": "markdown",
      "source": [
        "Os gastos com alimentação estão mais concentrados em valores menores que 5000."
      ],
      "metadata": {
        "id": "x8TjSsgSa7r7"
      }
    },
    {
      "cell_type": "code",
      "source": [
        "plotar_grafico_de_pizza_nulos(df, \"FoodCourt\")"
      ],
      "metadata": {
        "id": "9DO-Lct1Rdpp"
      },
      "execution_count": null,
      "outputs": []
    },
    {
      "cell_type": "markdown",
      "source": [
        "Possui 182 valores nulos."
      ],
      "metadata": {
        "id": "zqkV1AOHbKP8"
      }
    },
    {
      "cell_type": "code",
      "source": [
        "plotar_grafico_de_dispersao_atributo(df, \"FoodCourt\")"
      ],
      "metadata": {
        "id": "hLtJuOxxRlan"
      },
      "execution_count": null,
      "outputs": []
    },
    {
      "cell_type": "markdown",
      "source": [
        "Valores aberrantes -> acima de 20000\n",
        "\n",
        "Não possui valores Inconsistentes."
      ],
      "metadata": {
        "id": "5KBLmFaoRprg"
      }
    },
    {
      "cell_type": "code",
      "source": [
        "plotar_relacao_atributo_rotulo_bloxplot(df, \"FoodCourt\")"
      ],
      "metadata": {
        "id": "pqtDZ6L0Ry6R"
      },
      "execution_count": null,
      "outputs": []
    },
    {
      "cell_type": "code",
      "source": [
        "plotar_relacao_atributo_rotulo_barras(df, \"FoodCourt\")"
      ],
      "metadata": {
        "id": "DmaCeD5-R2lt"
      },
      "execution_count": null,
      "outputs": []
    },
    {
      "cell_type": "markdown",
      "source": [
        "É possível perceber que quanto mais se gastou com na praça de alimentação maior a chance da pessoa ser transportada para outra dimensão."
      ],
      "metadata": {
        "id": "_F_NFAvpcpJr"
      }
    },
    {
      "cell_type": "markdown",
      "source": [
        "Analisar Gastos com Shopping - ShoppingMall"
      ],
      "metadata": {
        "id": "Fo3ugPbfc-TA"
      }
    },
    {
      "cell_type": "code",
      "source": [
        "analise_estatistica_atributo(df, \"ShoppingMall\")"
      ],
      "metadata": {
        "id": "PUtyZTuSR8au"
      },
      "execution_count": null,
      "outputs": []
    },
    {
      "cell_type": "code",
      "source": [
        "plotar_histograma_atributo(df, \"ShoppingMall\")"
      ],
      "metadata": {
        "id": "I4hBjYz2SEe-"
      },
      "execution_count": null,
      "outputs": []
    },
    {
      "cell_type": "markdown",
      "source": [
        "Percebe-se que os gastos com shopping são, em maioria, menores que 5000."
      ],
      "metadata": {
        "id": "QPQ61nETdGf7"
      }
    },
    {
      "cell_type": "code",
      "source": [
        "plotar_grafico_de_pizza_nulos(df, \"ShoppingMall\")"
      ],
      "metadata": {
        "id": "vHKoHPAoSJMn"
      },
      "execution_count": null,
      "outputs": []
    },
    {
      "cell_type": "markdown",
      "source": [
        "Possui 207 valores nulos."
      ],
      "metadata": {
        "id": "v8iPm6qcdVcD"
      }
    },
    {
      "cell_type": "code",
      "source": [
        "plotar_grafico_de_dispersao_atributo(df, \"ShoppingMall\")"
      ],
      "metadata": {
        "id": "k2XNMu5DSPt1"
      },
      "execution_count": null,
      "outputs": []
    },
    {
      "cell_type": "markdown",
      "source": [
        "Valores Aberrantes -> acima de 5000.\n",
        "\n",
        "Não possui valores Inconsistentes."
      ],
      "metadata": {
        "id": "pF58Q7YEST1C"
      }
    },
    {
      "cell_type": "code",
      "source": [
        "plotar_relacao_atributo_rotulo_bloxplot(df, \"ShoppingMall\")"
      ],
      "metadata": {
        "id": "hexwx_IzScZs"
      },
      "execution_count": null,
      "outputs": []
    },
    {
      "cell_type": "code",
      "source": [
        "plotar_relacao_atributo_rotulo_barras(df, \"ShoppingMall\")"
      ],
      "metadata": {
        "id": "5m41To7YSgRF"
      },
      "execution_count": null,
      "outputs": []
    },
    {
      "cell_type": "markdown",
      "source": [
        "Percebe-se que quantos mais se gasta no shopping, maior a chance da pessoa ser transportada para outra dimensão."
      ],
      "metadata": {
        "id": "-tlUZJ_FeCta"
      }
    },
    {
      "cell_type": "markdown",
      "source": [
        "Analisar Gastos com Spa - Spa"
      ],
      "metadata": {
        "id": "lQhFSq-3SqTv"
      }
    },
    {
      "cell_type": "code",
      "source": [
        "analise_estatistica_atributo(df, \"Spa\")"
      ],
      "metadata": {
        "id": "mTit-T8iSuaQ"
      },
      "execution_count": null,
      "outputs": []
    },
    {
      "cell_type": "code",
      "source": [
        "plotar_histograma_atributo(df, \"Spa\")"
      ],
      "metadata": {
        "id": "sEwdmj_9S2of"
      },
      "execution_count": null,
      "outputs": []
    },
    {
      "cell_type": "markdown",
      "source": [
        "Os gastos com Spa estão mais concentrados em valores menores que 5000."
      ],
      "metadata": {
        "id": "P3ZK-PZ5eVsb"
      }
    },
    {
      "cell_type": "code",
      "source": [
        "plotar_grafico_de_pizza_nulos(df, \"Spa\")"
      ],
      "metadata": {
        "id": "T6GEZ5DpS9RZ"
      },
      "execution_count": null,
      "outputs": []
    },
    {
      "cell_type": "markdown",
      "source": [
        "Possui 182 valores nulos."
      ],
      "metadata": {
        "id": "7g812QEdeeJe"
      }
    },
    {
      "cell_type": "code",
      "source": [
        "plotar_grafico_de_dispersao_atributo(df, \"Spa\")"
      ],
      "metadata": {
        "id": "OL6-iAPWTC04"
      },
      "execution_count": null,
      "outputs": []
    },
    {
      "cell_type": "markdown",
      "source": [
        "Valores Aberrantes -> acima de 15000.\n",
        "\n",
        "Não possui valores Inconsistentes."
      ],
      "metadata": {
        "id": "HbPFmebMTLWQ"
      }
    },
    {
      "cell_type": "code",
      "source": [
        "plotar_relacao_atributo_rotulo_bloxplot(df, \"Spa\")"
      ],
      "metadata": {
        "id": "sDejww9CTSjs"
      },
      "execution_count": null,
      "outputs": []
    },
    {
      "cell_type": "code",
      "source": [
        "plotar_relacao_atributo_rotulo_barras(df, \"Spa\")"
      ],
      "metadata": {
        "id": "tHpBfakuTV1O"
      },
      "execution_count": null,
      "outputs": []
    },
    {
      "cell_type": "markdown",
      "source": [
        "É possível perceber que quanto mais a pessoa gastou no Spa, menor a chance dela ser transportada para outra dimensão."
      ],
      "metadata": {
        "id": "2RyHoPcBe22U"
      }
    },
    {
      "cell_type": "markdown",
      "source": [
        "Analisar Gastos com VRDeck - VRDeck"
      ],
      "metadata": {
        "id": "ohunBB2AfMJr"
      }
    },
    {
      "cell_type": "code",
      "source": [
        "analise_estatistica_atributo(df, \"VRDeck\")"
      ],
      "metadata": {
        "id": "Cjvn36kRTdPa"
      },
      "execution_count": null,
      "outputs": []
    },
    {
      "cell_type": "code",
      "source": [
        "plotar_histograma_atributo(df, \"VRDeck\")"
      ],
      "metadata": {
        "id": "vjBYHpo6TmHc"
      },
      "execution_count": null,
      "outputs": []
    },
    {
      "cell_type": "markdown",
      "source": [
        "Os valores gastos com VRDeck estão mais concentrados em valores menores que 5000."
      ],
      "metadata": {
        "id": "Uijfq6OTfR-O"
      }
    },
    {
      "cell_type": "code",
      "source": [
        "plotar_grafico_de_pizza_nulos(df, \"VRDeck\")"
      ],
      "metadata": {
        "id": "FdwTHPkvTqW-"
      },
      "execution_count": null,
      "outputs": []
    },
    {
      "cell_type": "markdown",
      "source": [
        "Possui 187 valores nulos."
      ],
      "metadata": {
        "id": "s5PpXttzfgL0"
      }
    },
    {
      "cell_type": "code",
      "source": [
        "plotar_grafico_de_dispersao_atributo(df, \"VRDeck\")"
      ],
      "metadata": {
        "id": "VGOZpd3zTvOy"
      },
      "execution_count": null,
      "outputs": []
    },
    {
      "cell_type": "markdown",
      "source": [
        "Valores Aberrantes -> acima de 15000.\n",
        "\n",
        "Não possui valores Inconsistentes."
      ],
      "metadata": {
        "id": "agf-anRRTy9s"
      }
    },
    {
      "cell_type": "code",
      "source": [
        "plotar_relacao_atributo_rotulo_bloxplot(df, \"VRDeck\")"
      ],
      "metadata": {
        "id": "cbWnGs_kptNH"
      },
      "execution_count": null,
      "outputs": []
    },
    {
      "cell_type": "code",
      "source": [
        "plotar_relacao_atributo_rotulo_barras(df, \"VRDeck\")"
      ],
      "metadata": {
        "id": "1dKhv6jop0ya"
      },
      "execution_count": null,
      "outputs": []
    },
    {
      "cell_type": "markdown",
      "source": [
        "Percebe-se que quanto mais o passageiro gastou com VRDeck, menor a chance dele ser transportado para outra dimensão."
      ],
      "metadata": {
        "id": "s3RoUqGsfznK"
      }
    },
    {
      "cell_type": "markdown",
      "source": [
        "Conclui-se que:\n",
        "  - Pessoas localizadas quartos mais caros, no spa e no vrdeck, tem uma chance menor de serem transportadas para outra dimensão\n",
        "  - Pessoas localizadas na praça de alimentação e shopping, tem maiores chances de serem transportadas para outra dimensão."
      ],
      "metadata": {
        "id": "Gi_-lY98guLA"
      }
    },
    {
      "cell_type": "markdown",
      "source": [
        "#Análise dos Atributos Categóricos (binários, ordinais e nominais)"
      ],
      "metadata": {
        "id": "zBbh6LE3fke2"
      }
    },
    {
      "cell_type": "markdown",
      "source": [
        "Analisar Id do Passageiro - PassengerId"
      ],
      "metadata": {
        "id": "wPClWRRdha96"
      }
    },
    {
      "cell_type": "code",
      "source": [
        "unicidade(df, \"PassengerId\")"
      ],
      "metadata": {
        "id": "4SEy8Y_jVhPb"
      },
      "execution_count": null,
      "outputs": []
    },
    {
      "cell_type": "code",
      "source": [
        "plotar_grafico_de_pizza_nulos(df, \"PassengerId\")"
      ],
      "metadata": {
        "id": "s-CRtN6pVsq4"
      },
      "execution_count": null,
      "outputs": []
    },
    {
      "cell_type": "markdown",
      "source": [
        "Não possui valores nulos.\n",
        "\n",
        "Não possui valores Aberrantes.\n",
        "\n",
        "Não possui valores Inconsistentes."
      ],
      "metadata": {
        "id": "DU6x1zlihnhh"
      }
    },
    {
      "cell_type": "markdown",
      "source": [
        "Analisar Planeta Natal - HomePlanet"
      ],
      "metadata": {
        "id": "yQyVv3VXh_IX"
      }
    },
    {
      "cell_type": "code",
      "source": [
        "plotar_grafico_de_pizza_nominal(df, \"HomePlanet\")"
      ],
      "metadata": {
        "id": "rrfQXgPnV-vg"
      },
      "execution_count": null,
      "outputs": []
    },
    {
      "cell_type": "markdown",
      "source": [
        "Mais pessoas partiram da Terra."
      ],
      "metadata": {
        "id": "cYvQvYkLkXfC"
      }
    },
    {
      "cell_type": "code",
      "source": [
        "plotar_grafico_de_pizza_nulos(df, \"HomePlanet\")"
      ],
      "metadata": {
        "id": "tjtFm2aDWcPI"
      },
      "execution_count": null,
      "outputs": []
    },
    {
      "cell_type": "markdown",
      "source": [
        "Possui 200 valores nulos.\n",
        "\n",
        "Não possui Valores Aberrantes.\n",
        "\n",
        "Não possui Valores Inconsistentes."
      ],
      "metadata": {
        "id": "qykRT9Z0iSpL"
      }
    },
    {
      "cell_type": "code",
      "source": [
        "plotar_relacao_atributo_rotulo_pizza(df, \"HomePlanet\")"
      ],
      "metadata": {
        "id": "aYTFz4f_Xe6I"
      },
      "execution_count": null,
      "outputs": []
    },
    {
      "cell_type": "markdown",
      "source": [
        "É possível perceber que pessoas que partiram do planeta:\n",
        " - Europa e Marte: tem mais chance de serem transportadas para outra dimensão.\n",
        " - Terra: tem menos chance de isso ocorrer."
      ],
      "metadata": {
        "id": "UGuwWv8xi9dC"
      }
    },
    {
      "cell_type": "markdown",
      "source": [
        "Analisar Cabine de Sono - CryoSleep"
      ],
      "metadata": {
        "id": "LdF3fUiykIpO"
      }
    },
    {
      "cell_type": "code",
      "source": [
        "plotar_grafico_de_pizza_nominal(df, \"CryoSleep\")"
      ],
      "metadata": {
        "id": "pThaQlLzcuXw"
      },
      "execution_count": null,
      "outputs": []
    },
    {
      "cell_type": "markdown",
      "source": [
        "Mais pessoas optaram por não entrar na cabine do sono."
      ],
      "metadata": {
        "id": "5D1thjh3kbpa"
      }
    },
    {
      "cell_type": "code",
      "source": [
        "plotar_grafico_de_pizza_nulos(df, \"CryoSleep\")"
      ],
      "metadata": {
        "id": "fPJUA2Ngc2y4"
      },
      "execution_count": null,
      "outputs": []
    },
    {
      "cell_type": "markdown",
      "source": [
        "Possui 216 valores nulos.\n",
        "\n",
        "Não possui Valores Aberrantes !\n",
        "\n",
        "Não possui Valores Inconsistentes !"
      ],
      "metadata": {
        "id": "9a1_mdGxkoMh"
      }
    },
    {
      "cell_type": "code",
      "source": [
        "plotar_relacao_atributo_rotulo_pizza(df, \"CryoSleep\")"
      ],
      "metadata": {
        "id": "-QVuzoUvdCir"
      },
      "execution_count": null,
      "outputs": []
    },
    {
      "cell_type": "markdown",
      "source": [
        "É possível perceber que:\n",
        " - Pessoas que foram para a Cabine do Sono tem mais chance de serem transportadas para outra dimensão, dos que as que não foram."
      ],
      "metadata": {
        "id": "k14YCFculKGH"
      }
    },
    {
      "cell_type": "markdown",
      "source": [
        "Analisar Cabine - Cabin"
      ],
      "metadata": {
        "id": "6BXWInXYlaTS"
      }
    },
    {
      "cell_type": "code",
      "source": [
        "unicidade(df, \"Cabin\")\n"
      ],
      "metadata": {
        "id": "628K63A7leQY"
      },
      "execution_count": null,
      "outputs": []
    },
    {
      "cell_type": "code",
      "source": [
        "plotar_grafico_de_pizza_nulos(df, \"Cabin\")"
      ],
      "metadata": {
        "id": "hVnAejfplib5"
      },
      "execution_count": null,
      "outputs": []
    },
    {
      "cell_type": "markdown",
      "source": [
        "Possui 198 valores nulos.\n",
        "\n",
        "Não possui Valores Aberrantes !\n",
        "\n",
        "Não possui Valores Inconsistentes !"
      ],
      "metadata": {
        "id": "_gaL0l1klnJE"
      }
    },
    {
      "cell_type": "code",
      "source": [
        "#plotar_relacao_atributo_rotulo_pizza(df, \"Cabin\")"
      ],
      "metadata": {
        "id": "s7gv0omvlw5x"
      },
      "execution_count": null,
      "outputs": []
    },
    {
      "cell_type": "markdown",
      "source": [
        "Analisar Destino - Destination"
      ],
      "metadata": {
        "id": "6QvZrn9mmQem"
      }
    },
    {
      "cell_type": "code",
      "source": [
        "plotar_grafico_de_pizza_nominal(df, \"Destination\")"
      ],
      "metadata": {
        "id": "HAT46dfwd2g7"
      },
      "execution_count": null,
      "outputs": []
    },
    {
      "cell_type": "markdown",
      "source": [
        "Percebe-se que mais pessoas estão se destinando ao planeta TRAPPIST-1e."
      ],
      "metadata": {
        "id": "h4o-3mTNmXlx"
      }
    },
    {
      "cell_type": "code",
      "source": [
        "plotar_grafico_de_pizza_nulos(df, \"Destination\")"
      ],
      "metadata": {
        "id": "bbO201apeF8j"
      },
      "execution_count": null,
      "outputs": []
    },
    {
      "cell_type": "markdown",
      "source": [
        "Possui 181 valores nulos.\n",
        "\n",
        "Não possui Valores Aberrantes !\n",
        "\n",
        "Não possui Valores Inconsistentes !"
      ],
      "metadata": {
        "id": "R1Q1sbCemjNO"
      }
    },
    {
      "cell_type": "code",
      "source": [
        "plotar_relacao_atributo_rotulo_pizza(df, \"Destination\")"
      ],
      "metadata": {
        "id": "3QdbCaz2eObV"
      },
      "execution_count": null,
      "outputs": []
    },
    {
      "cell_type": "markdown",
      "source": [
        "É possível perceber que pessoas que estavam se destinando ao planeta:\n",
        " - TRAPPIST-1e: tem menos chance de serem transportadas para outra dimensão.\n",
        " - 55 Cancri e, PSO J318.5-22: tem mais chance de isso ocorrer."
      ],
      "metadata": {
        "id": "wAGVcL7Bm6UB"
      }
    },
    {
      "cell_type": "markdown",
      "source": [
        "Analisar Passageiro Vip - VIP"
      ],
      "metadata": {
        "id": "9zt_81nPnfCB"
      }
    },
    {
      "cell_type": "code",
      "source": [
        "plotar_grafico_de_pizza_nominal(df, \"VIP\")"
      ],
      "metadata": {
        "id": "VfivPM63eaUg"
      },
      "execution_count": null,
      "outputs": []
    },
    {
      "cell_type": "markdown",
      "source": [
        "Percebe-se que apenas uma pequena parcela dos passageiros eram VIPs."
      ],
      "metadata": {
        "id": "q_PKEi3MnoIr"
      }
    },
    {
      "cell_type": "code",
      "source": [
        "plotar_grafico_de_pizza_nulos(df, \"VIP\")"
      ],
      "metadata": {
        "id": "xnyomEmSegy0"
      },
      "execution_count": null,
      "outputs": []
    },
    {
      "cell_type": "markdown",
      "source": [
        "Possui 202 valores nulos.\n",
        "\n",
        "Não possui Valores Aberrantes !\n",
        "\n",
        "Não possui Valores Inconsistentes !"
      ],
      "metadata": {
        "id": "sg-T99v_nxyY"
      }
    },
    {
      "cell_type": "code",
      "source": [
        "plotar_relacao_atributo_rotulo_pizza(df, \"VIP\")"
      ],
      "metadata": {
        "id": "zGE_HYCgeria"
      },
      "execution_count": null,
      "outputs": []
    },
    {
      "cell_type": "markdown",
      "source": [
        "Percebe-se que a maioria dos passageiros VIP's' não foram transportados para outra dimensão. No entanto, isso permanece bem distribuído entre os passageiros não VIP's'."
      ],
      "metadata": {
        "id": "Ily1IXsaoFNA"
      }
    },
    {
      "cell_type": "markdown",
      "source": [
        "Analisar Nome do Passageiro - Name"
      ],
      "metadata": {
        "id": "OiCpVOOGoWeg"
      }
    },
    {
      "cell_type": "code",
      "source": [
        "unicidade(df, \"Name\")"
      ],
      "metadata": {
        "id": "ipcs-mVve4TH"
      },
      "execution_count": null,
      "outputs": []
    },
    {
      "cell_type": "code",
      "source": [
        "plotar_grafico_de_pizza_nulos(df, \"Name\")"
      ],
      "metadata": {
        "id": "-5NdMb3ce7tp"
      },
      "execution_count": null,
      "outputs": []
    },
    {
      "cell_type": "markdown",
      "source": [
        "Possui 199 valores nulos.\n",
        "\n",
        "Não possui Valores Aberrantes !\n",
        "\n",
        "Não possui Valores Inconsistentes !"
      ],
      "metadata": {
        "id": "6op3oC-qosLw"
      }
    },
    {
      "cell_type": "code",
      "source": [
        "# Possui Nomes Repetidos\n",
        "print(Counter(df.Name))"
      ],
      "metadata": {
        "id": "uPhPPe1Hrt8g"
      },
      "execution_count": null,
      "outputs": []
    },
    {
      "cell_type": "markdown",
      "source": [
        "Analisar Transportado - Transported"
      ],
      "metadata": {
        "id": "4bd1uK1loyLj"
      }
    },
    {
      "cell_type": "code",
      "source": [
        "plotar_grafico_de_pizza_nominal(df, \"Transported\")"
      ],
      "metadata": {
        "id": "DLjjcI6dfObo"
      },
      "execution_count": null,
      "outputs": []
    },
    {
      "cell_type": "markdown",
      "source": [
        "Percebe-se que está bem distribuído a quantidade de passageiros que foram transportados para outra dimensão e os que não foram."
      ],
      "metadata": {
        "id": "D3w3AcLNo40w"
      }
    },
    {
      "cell_type": "code",
      "source": [
        "plotar_grafico_de_pizza_nulos(df, \"Transported\")"
      ],
      "metadata": {
        "id": "9uj0zg77fUKr"
      },
      "execution_count": null,
      "outputs": []
    },
    {
      "cell_type": "markdown",
      "source": [
        "Não possui valores nulos.\n",
        "\n",
        "Não possui Valores Aberrantes !\n",
        "\n",
        "Não possui Valores Inconsistentes !"
      ],
      "metadata": {
        "id": "kEEIZi-tpG4w"
      }
    },
    {
      "cell_type": "markdown",
      "source": [
        "#Prévia Correlação entre os atributos"
      ],
      "metadata": {
        "id": "NdUOcu___jQI"
      }
    },
    {
      "cell_type": "code",
      "source": [
        "# análise de correlação\n",
        "\n",
        "correlation = df.corr()\n",
        "\n",
        "# plot da matriz de correlação\n",
        "\n",
        "plot = sns.heatmap(correlation, annot = True, fmt=\".1f\", linewidths=.6)\n",
        "plot"
      ],
      "metadata": {
        "id": "QGkO-ASH_q1Y"
      },
      "execution_count": null,
      "outputs": []
    },
    {
      "cell_type": "markdown",
      "source": [
        "A partir do Mapa de Calor de Correlação é possível perceber que os atributos  possuem baixíssima correlação.\n",
        "\n",
        "Uma melhor análise da correlação dos atributos pode ser feita após uma discretização dos dados e a realização da transformação dos atributos nominais em númericos juntamente do One Hot Encoding.\n",
        "\n",
        "Essa correlação vai melhorar principalmente quando o rótulo for transformado em inteiro."
      ],
      "metadata": {
        "id": "1cnlFzcF_2UO"
      }
    },
    {
      "cell_type": "markdown",
      "source": [
        "#Limpeza e transformação de dados"
      ],
      "metadata": {
        "id": "dC8vxnUxpk_t"
      }
    },
    {
      "cell_type": "markdown",
      "source": [
        "# Preencher Dados Nulos"
      ],
      "metadata": {
        "id": "hpf80U-appT5"
      }
    },
    {
      "cell_type": "code",
      "source": [
        "df.count()"
      ],
      "metadata": {
        "id": "PFTAs5VurYtY"
      },
      "execution_count": null,
      "outputs": []
    },
    {
      "cell_type": "code",
      "source": [
        "# Preencher Dados Nulos com Média\n",
        "\n",
        "atributos = [\"Age\", \"RoomService\", \"FoodCourt\", \"ShoppingMall\", \"Spa\", \"VRDeck\"]\n",
        "\n",
        "imputers_continuos = dict()\n",
        "# Usar media\n",
        "for atributo in atributos: \n",
        "  imputer = SimpleImputer(strategy='mean', missing_values=np.nan)\n",
        "  imputer = imputer.fit(df[[atributo]])\n",
        "  imputers_continuos[atributo] = imputer\n",
        "  df[atributo] = imputers_continuos[atributo].transform(df[[atributo]])\n"
      ],
      "metadata": {
        "id": "tq521Nenpmrg"
      },
      "execution_count": null,
      "outputs": []
    },
    {
      "cell_type": "code",
      "source": [
        "# Usar Desconhecido\n",
        "\n",
        "atributos = [\"HomePlanet\", \"CryoSleep\", \"Cabin\", \"Destination\", \"VIP\", \"Name\"]\n",
        "\n",
        "imputers_nominais = SimpleImputer(strategy='constant', fill_value=\"Desconhecido\", missing_values=np.nan)\n",
        "\n",
        "for atributo in atributos: \n",
        "  imputers_nominais = imputers_nominais.fit(df[[atributo]])\n",
        "  df[atributo] = imputers_nominais.transform(df[[atributo]])\n"
      ],
      "metadata": {
        "id": "n2_M8j4MshIW"
      },
      "execution_count": null,
      "outputs": []
    },
    {
      "cell_type": "code",
      "source": [
        "df.count()"
      ],
      "metadata": {
        "id": "Gd09OAUJtTw4"
      },
      "execution_count": null,
      "outputs": []
    },
    {
      "cell_type": "markdown",
      "source": [
        "Para os atributos:\n",
        " - Age, RoomService, FoodCourt, ShoppingMall, Spa, VRDeck, foi utilizada a média para preencher os valores nulos.\n",
        " - HomePlanet, CryoSleep, Cabin, Destination, VIP, Name, foi utilizada a substituição pela constante \"Desconhecido\", para prencher os valores nulos."
      ],
      "metadata": {
        "id": "9FJBqwD_sUoA"
      }
    },
    {
      "cell_type": "markdown",
      "source": [
        "#Suavizar Ruídos"
      ],
      "metadata": {
        "id": "LQ_TYN_2tdCP"
      }
    },
    {
      "cell_type": "markdown",
      "source": [
        "Não será suavizado pois os dados parecem importantes no processo de classificação."
      ],
      "metadata": {
        "id": "tpr138HDtf-I"
      }
    },
    {
      "cell_type": "markdown",
      "source": [
        "#Resolver Inconsistências"
      ],
      "metadata": {
        "id": "ONsM4h4vtp4T"
      }
    },
    {
      "cell_type": "code",
      "source": [
        "print(\"Não tem atributos inconsistentes !\")\n",
        "print(\"Tentar remover instâncias duplicadas !\")\n",
        "\n",
        "print(\"Itens Existentes\",df.count()[0])\n",
        "\n",
        "#Remover Duplicados\n",
        "df.drop_duplicates(inplace=True)\n",
        "print(\"Itens Existentes após remoção:\",df.count()[0])\n"
      ],
      "metadata": {
        "id": "HWuL4FuitpHI"
      },
      "execution_count": null,
      "outputs": []
    },
    {
      "cell_type": "markdown",
      "source": [
        "Nessa Base de Dados não teve dados Duplicados.\n",
        "\n"
      ],
      "metadata": {
        "id": "Ga_oLzk6txi_"
      }
    },
    {
      "cell_type": "code",
      "source": [
        "# Utilizado pelo Apriori\n",
        "df_frequentes = df.copy()"
      ],
      "metadata": {
        "id": "B7tLVapfltg3"
      },
      "execution_count": null,
      "outputs": []
    },
    {
      "cell_type": "markdown",
      "source": [
        "#Transformar atributos categóricos nominais e ordinais em um vetor numérico, usando o OneHotEncoder)"
      ],
      "metadata": {
        "id": "fZOL53Qut2dA"
      }
    },
    {
      "cell_type": "code",
      "source": [
        "df.head()"
      ],
      "metadata": {
        "id": "-L3rxh9sizrZ"
      },
      "execution_count": null,
      "outputs": []
    },
    {
      "cell_type": "code",
      "source": [
        "def aprender_labels(df, atributos):\n",
        "  label_encoders = dict()\n",
        "  \n",
        "  for atributo in atributos:\n",
        "    label_encoder = preprocessing.LabelEncoder()\n",
        "    label_encoder.fit(df[atributo])\n",
        "    label_encoders[atributo] = label_encoder\n",
        "\n",
        "  return label_encoders\n",
        "  \n",
        "# Transformar em numérico\n",
        "def tranformar_em_numerico(df, label_encoders, atributos):\n",
        "  for atributo in atributos:\n",
        "    df[atributo] = label_encoders[atributo].transform(df[atributo])\n",
        "\n"
      ],
      "metadata": {
        "id": "BarXm1Qgt41H"
      },
      "execution_count": null,
      "outputs": []
    },
    {
      "cell_type": "code",
      "source": [
        "atributos_nominais = [\"HomePlanet\", \"CryoSleep\", \"Cabin\", \"Destination\", \"VIP\", \"Name\", \"Transported\"]\n",
        "\n",
        "for atributo in atributos_nominais:\n",
        "  df[atributo] = df[atributo].astype(str)\n",
        "\n",
        "label_encoders = aprender_labels(df, atributos_nominais)\n",
        "tranformar_em_numerico(df, label_encoders, atributos_nominais)\n",
        "\n",
        "df.head(10)"
      ],
      "metadata": {
        "id": "1ZNS831kuNQh"
      },
      "execution_count": null,
      "outputs": []
    },
    {
      "cell_type": "code",
      "source": [
        "def aprender_one_hot(df, atributos):\n",
        "  hot_encoders = dict()\n",
        "  \n",
        "  for atributo in atributos:\n",
        "    hot_encoder = preprocessing.OneHotEncoder()\n",
        "    hot_encoder.fit(df[atributo].values.reshape(-1,1))\n",
        "    hot_encoders[atributo] = hot_encoder\n",
        "\n",
        "  return hot_encoders\n",
        "  \n",
        "# Transformar em numérico\n",
        "def tranformar_onehot(df, hot_encoders, label_encoders, atributos):\n",
        "  for atributo in atributos:\n",
        "    X = hot_encoders[atributo].transform(df[atributo].values.reshape(-1,1)).toarray()\n",
        "    #X[1]\n",
        "    dfOneHot = pd.DataFrame(X, columns= [atributo + \" \" + label for label in label_encoders[atributo].classes_])\n",
        "    df = pd.concat([df, dfOneHot], axis=1)\n",
        "    df.drop([atributo], axis=1, inplace=True)\n",
        "  return df"
      ],
      "metadata": {
        "id": "UTQ-A9h0cnee"
      },
      "execution_count": null,
      "outputs": []
    },
    {
      "cell_type": "code",
      "source": [
        "\n",
        "# Fazer one hot enconding\n",
        "atributos_onehot = [\"HomePlanet\", \"CryoSleep\", \"Destination\", \"VIP\"]\n",
        "hot_encoders = aprender_one_hot(df, atributos_onehot)\n",
        "\n",
        "# Fazer o One Hot Enconding\n",
        "df = tranformar_onehot(df, hot_encoders, label_encoders, atributos_onehot)\n",
        "\n",
        "df.head(10)"
      ],
      "metadata": {
        "id": "clEPVuBkupaP"
      },
      "execution_count": null,
      "outputs": []
    },
    {
      "cell_type": "code",
      "source": [
        "print(df.columns)"
      ],
      "metadata": {
        "id": "eZ9f5uY_dOqz"
      },
      "execution_count": null,
      "outputs": []
    },
    {
      "cell_type": "markdown",
      "source": [
        "Após o One Hot Encoding, será feita uma análise da correlação."
      ],
      "metadata": {
        "id": "R95Ju04Iz8be"
      }
    },
    {
      "cell_type": "code",
      "source": [
        "# Impressao da matriz de correlacao dos dados\n",
        "for atributo in df.columns:\n",
        "  df[atributo] = df[atributo].astype(float)\n",
        "sns.pairplot(pd.DataFrame(dict(df)))"
      ],
      "metadata": {
        "id": "Da5jjg0X0COP"
      },
      "execution_count": null,
      "outputs": []
    },
    {
      "cell_type": "code",
      "source": [
        "# análise de correlação\n",
        "\n",
        "correlation = df.corr()\n",
        "\n",
        "# plot da matriz de correlação\n",
        "sns.set(rc = {'figure.figsize':(15,8)})\n",
        "plot = sns.heatmap(correlation, annot = True, fmt=\".1f\", linewidths=.6, annot_kws = {'size':15})\n",
        "plot"
      ],
      "metadata": {
        "id": "pozrodC80IC6"
      },
      "execution_count": null,
      "outputs": []
    },
    {
      "cell_type": "markdown",
      "source": [
        "É possível observar que:\n",
        " - Existe uma correlação forte entre o Planeta de Partida e a Cabine.\n",
        " - Existem uma correlação moderada entre a Cabine de Hibernação e ser transportado para outra dimensão. Já analisado: se a pessoa foi para a Cabine de Hibernação, maior a chance de ser transportada para outra dimensão.\n",
        " -Existe uma correlação Moderada entre Planeta de Origem Europa e os gastos na praça de Alimentação (e em outras áreas da nave)."
      ],
      "metadata": {
        "id": "7XkxmlqE5-gc"
      }
    },
    {
      "cell_type": "code",
      "source": [
        "atributos = ['HomePlanet Desconhecido', 'HomePlanet Earth', 'HomePlanet Europa', 'HomePlanet Mars']\n",
        "\n",
        "for atributo in atributos:\n",
        "  sns.set()\n",
        "  gasto = df[df[atributo] == 1]\n",
        "  gasto = gasto.FoodCourt\n",
        "\n",
        "  plt.figure(figsize=(8, 6))\n",
        "  plt.title(\"Gráfico de Distribuição - \"+ atributo, fontsize=20)\n",
        "  plt.xlabel(\"Gastos na Praça de Alimentação\")\n",
        "  plt.ylabel('Quantidade')\n",
        "  \n",
        "  plt.hist(gasto, alpha=0.5, label=atributo)\n",
        "\n",
        "  plt.legend(loc='upper right')\n",
        "  print(\"\\n\")"
      ],
      "metadata": {
        "id": "rwlJg9JI8Etj"
      },
      "execution_count": null,
      "outputs": []
    },
    {
      "cell_type": "markdown",
      "source": [
        "# Normalizando os valores de atributos numéricos."
      ],
      "metadata": {
        "id": "UM4I6Cxr6rfc"
      }
    },
    {
      "cell_type": "code",
      "source": [
        "#Coloca Transported como ultimo atributo\n",
        "def coloca_transported_ultimo(df):\n",
        "  transported = list(df.Transported)\n",
        "\n",
        "  df.drop(\"Transported\", axis=1, inplace=True)\n",
        "  df['Transported']= transported"
      ],
      "metadata": {
        "id": "iShMMEIp7A_l"
      },
      "execution_count": null,
      "outputs": []
    },
    {
      "cell_type": "code",
      "source": [
        "def normalizador(df):\n",
        "  scaler = preprocessing.MinMaxScaler()\n",
        "  scaler.fit(df)\n",
        "  return scaler"
      ],
      "metadata": {
        "id": "h6Lri78FlMVA"
      },
      "execution_count": null,
      "outputs": []
    },
    {
      "cell_type": "code",
      "source": [
        "def normalizar(df, scaler):\n",
        "  X = scaler.transform(df)\n",
        "  df= pd.DataFrame(X, columns=df.columns)\n",
        "  return df"
      ],
      "metadata": {
        "id": "LbgrR11mlNqE"
      },
      "execution_count": null,
      "outputs": []
    },
    {
      "cell_type": "code",
      "source": [
        "# Min Max Scaler\n",
        "\n",
        "coloca_transported_ultimo(df)\n",
        "aux = df.copy()\n",
        "\n",
        "df.drop([\"Transported\"], axis=1, inplace=True)\n",
        "\n",
        "scaler = normalizador(df)\n",
        "\n",
        "df = normalizar(df, scaler)\n",
        "df[\"Transported\"] = aux[\"Transported\"]\n",
        "\n",
        "df.head()"
      ],
      "metadata": {
        "id": "Ot_5ju2o67DP"
      },
      "execution_count": null,
      "outputs": []
    },
    {
      "cell_type": "markdown",
      "source": [
        "Fazer uma verificação na correlação novamente."
      ],
      "metadata": {
        "id": "beGyhuQr7aDA"
      }
    },
    {
      "cell_type": "code",
      "source": [
        "# análise de correlação\n",
        "correlation = df.corr()\n",
        "\n",
        "# plot da matriz de correlação\n",
        "sns.set(rc = {'figure.figsize':(15,8)})\n",
        "plot = sns.heatmap(correlation, annot = True, fmt=\".1f\", linewidths=.6, annot_kws = {'size':15})\n",
        "plot"
      ],
      "metadata": {
        "id": "AntN-v3X7Zrc"
      },
      "execution_count": null,
      "outputs": []
    },
    {
      "cell_type": "markdown",
      "source": [
        "# Seleção de Atributos"
      ],
      "metadata": {
        "id": "39-l1qiPjqiI"
      }
    },
    {
      "cell_type": "code",
      "source": [
        "#Remover PassengerId\n",
        "df.drop([\"PassengerId\", \"Name\"], axis=1, inplace=True)\n",
        "df.head()"
      ],
      "metadata": {
        "id": "QZhhKhQgjtNu"
      },
      "execution_count": null,
      "outputs": []
    },
    {
      "cell_type": "markdown",
      "source": [
        "# Discretização dos Atributos Numéricos"
      ],
      "metadata": {
        "id": "8fWRRgPslgFQ"
      }
    },
    {
      "cell_type": "code",
      "source": [
        "df_frequentes.drop([\"PassengerId\"], axis=1, inplace=True)\n",
        "df_frequentes.head()"
      ],
      "metadata": {
        "id": "FwaeheuUlxWq"
      },
      "execution_count": null,
      "outputs": []
    },
    {
      "cell_type": "code",
      "source": [
        "print(df_frequentes.columns)"
      ],
      "metadata": {
        "id": "WSfjajlKpyrO"
      },
      "execution_count": null,
      "outputs": []
    },
    {
      "cell_type": "markdown",
      "source": [
        "Discretizar Idade"
      ],
      "metadata": {
        "id": "Tm6i9PFfpwgf"
      }
    },
    {
      "cell_type": "code",
      "source": [
        "bins = [-1, 12, 18, 40, 60, df_frequentes.Age.max()+1]\n",
        "\n",
        "df_frequentes[\"Age\"] = pd.cut(df_frequentes[\"Age\"].to_numpy(), \n",
        "                              bins=bins,\n",
        "                              labels=[\"Criança\", \"Adolescente\", \"Adulto Jovem\", \"Adulto Velho\", \"Idoso\"])\n",
        "\n",
        "df_frequentes.head()"
      ],
      "metadata": {
        "id": "IcSeWF5aqCLc"
      },
      "execution_count": null,
      "outputs": []
    },
    {
      "cell_type": "markdown",
      "source": [
        "CryoSleep - Tornar mais Fácil de Entender"
      ],
      "metadata": {
        "id": "EEC1NShiqajN"
      }
    },
    {
      "cell_type": "code",
      "source": [
        "rotulos = {False: 'Não Hibernou', True: 'Hibernou', \"Desconhecido\" : \"Não sabe se Hibernou\"}\n",
        "df_frequentes['CryoSleep'] = df_frequentes['CryoSleep'].map(rotulos)\n",
        "df_frequentes.head()"
      ],
      "metadata": {
        "id": "tyb2rXrJqf9D"
      },
      "execution_count": null,
      "outputs": []
    },
    {
      "cell_type": "markdown",
      "source": [
        "VIP - Tornar mais Fácil de Entender"
      ],
      "metadata": {
        "id": "naektpxVq5C5"
      }
    },
    {
      "cell_type": "code",
      "source": [
        "rotulos = {False: 'Não Vip', True: 'Vip', \"Desconhecido\": \"Não sabe se é VIP\"}\n",
        "df_frequentes['VIP'] = df_frequentes['VIP'].map(rotulos)\n",
        "df_frequentes.head()"
      ],
      "metadata": {
        "id": "cefwyY0oq7SJ"
      },
      "execution_count": null,
      "outputs": []
    },
    {
      "cell_type": "markdown",
      "source": [
        "Transported - Tornar mais Fácil de Entender"
      ],
      "metadata": {
        "id": "uB7nCpt2rEAb"
      }
    },
    {
      "cell_type": "code",
      "source": [
        "rotulos = {False: 'Não Transportado', True: 'Transportado'}\n",
        "df_frequentes['Transported'] = df_frequentes['Transported'].map(rotulos)\n",
        "df_frequentes.head()"
      ],
      "metadata": {
        "id": "_sBa-22lrJ4z"
      },
      "execution_count": null,
      "outputs": []
    },
    {
      "cell_type": "markdown",
      "source": [
        "Discretizar Atributos - RoomService,\tFoodCourt,\tShoppingMall,\tSpa, VRDeck\t"
      ],
      "metadata": {
        "id": "Jke-OL7xrToK"
      }
    },
    {
      "cell_type": "code",
      "source": [
        "atributos = ['RoomService', 'FoodCourt', 'ShoppingMall', 'Spa', 'VRDeck']\n",
        "\n",
        "for atributo in atributos:\n",
        "  bins = [-1, 500, 1000, df_frequentes[atributo].max()+1]\n",
        "\n",
        "  df_frequentes[atributo] = pd.cut(df_frequentes[atributo].to_numpy(), \n",
        "                                bins=bins,\n",
        "                                labels=[\"Gasto Pouco \" + atributo, \n",
        "                                        \"Gasto Médio \" + atributo,\n",
        "                                        \"Gasto Muito \" + atributo])\n",
        "\n",
        "df_frequentes.head()"
      ],
      "metadata": {
        "id": "so8p8v9QrpoC"
      },
      "execution_count": null,
      "outputs": []
    },
    {
      "cell_type": "code",
      "source": [
        "df_frequentes.count()"
      ],
      "metadata": {
        "id": "qgoJX14OvcgN"
      },
      "execution_count": null,
      "outputs": []
    },
    {
      "cell_type": "markdown",
      "source": [
        "# Encontrar Regras de Transações"
      ],
      "metadata": {
        "id": "b7fca-kEwZuO"
      }
    },
    {
      "cell_type": "markdown",
      "source": [
        "Remover Espaços Antes de Depois dos atributos"
      ],
      "metadata": {
        "id": "AvpX8DYnwczC"
      }
    },
    {
      "cell_type": "code",
      "source": [
        "for atributo in df_frequentes.columns:\n",
        "  df_frequentes[atributo] = df_frequentes[atributo].str.strip()\n",
        "\n",
        "df_frequentes.head()"
      ],
      "metadata": {
        "id": "HVPB0On4wed3"
      },
      "execution_count": null,
      "outputs": []
    },
    {
      "cell_type": "markdown",
      "source": [
        "Transformar cada instância da base para o formato transacional"
      ],
      "metadata": {
        "id": "Z9y-CM6gwqp0"
      }
    },
    {
      "cell_type": "code",
      "source": [
        "transactions = []\n",
        "for i in range(0, len(df_frequentes)):\n",
        "    transactions.append([str(df_frequentes.values[i,j]) for j in range(0, len(df_frequentes.columns))])\n",
        "\n",
        "transactions[0]"
      ],
      "metadata": {
        "id": "0AXWs4CowtMF"
      },
      "execution_count": null,
      "outputs": []
    },
    {
      "cell_type": "markdown",
      "source": [
        "Codificar o One Hot para utilizar o apriori"
      ],
      "metadata": {
        "id": "Yf4lu3aAw46P"
      }
    },
    {
      "cell_type": "code",
      "source": [
        "# Instantiate transaction encoder and identify unique items\n",
        "encoder = TransactionEncoder().fit(transactions)\n",
        "\n",
        "# One-hot encode transactions\n",
        "onehot = encoder.transform(transactions)\n",
        "\n",
        "# Convert one-hot encoded data to DataFrame\n",
        "onehot = pd.DataFrame(onehot, columns = encoder.columns_)\n",
        "\n",
        "# Print the one-hot encoded transaction dataset\n",
        "onehot.head()"
      ],
      "metadata": {
        "id": "DWXP8uTFw5gL"
      },
      "execution_count": null,
      "outputs": []
    },
    {
      "cell_type": "markdown",
      "source": [
        "Gerar Itens Frequentes e Regras de Associação"
      ],
      "metadata": {
        "id": "wfYj4l-NxhA-"
      }
    },
    {
      "cell_type": "code",
      "source": [
        "# Gerar Itens Frequentes\n",
        "frequent_itemsets = apriori(onehot, min_support=0.07, use_colnames=True)\n",
        "\n",
        "# Gerar Regras a Partir dos Items frequentes\n",
        "rules = association_rules(frequent_itemsets, metric=\"lift\", min_threshold=1)\n",
        "rules.head(1000)"
      ],
      "metadata": {
        "id": "m5jQi5bWxNBz"
      },
      "execution_count": null,
      "outputs": []
    },
    {
      "cell_type": "markdown",
      "source": [
        "Encontrar Regras Interessantes"
      ],
      "metadata": {
        "id": "SMUkrDBVxcwN"
      }
    },
    {
      "cell_type": "code",
      "source": [
        "rules[ (rules['confidence'] >= 0.90) & (rules['support'] >= 0.75)  ]"
      ],
      "metadata": {
        "id": "GpJterLfxl7q"
      },
      "execution_count": null,
      "outputs": []
    },
    {
      "cell_type": "markdown",
      "source": [
        "Com mais de 95% de confiança e 75% de suporte:\n",
        "\n",
        "  - Se uma pessoa gastou pouco em qualquer área então ela não é VIP"
      ],
      "metadata": {
        "id": "8JXk8r9TW7aD"
      }
    },
    {
      "cell_type": "code",
      "source": [
        "rules[ (rules['confidence'] >= 0.95) & (rules['support'] >= 0.6)]"
      ],
      "metadata": {
        "id": "yGpiP7oYXLhj"
      },
      "execution_count": null,
      "outputs": []
    },
    {
      "cell_type": "code",
      "source": [
        "rules[ (rules['lift'] >= 4)]"
      ],
      "metadata": {
        "id": "j47_qCbLXU6T"
      },
      "execution_count": null,
      "outputs": []
    },
    {
      "cell_type": "markdown",
      "source": [
        "Analisando o lift, se a pessoa tiver partido de Europa então aumenta muita a chance dela ter gastado muito.\n"
      ],
      "metadata": {
        "id": "wnkefPkIX4Uz"
      }
    },
    {
      "cell_type": "code",
      "source": [
        "rules[ (rules['confidence'] >= 0.95) & (rules['support'] >= 0.4)]"
      ],
      "metadata": {
        "id": "k8-eWEFXYKeP"
      },
      "execution_count": null,
      "outputs": []
    },
    {
      "cell_type": "markdown",
      "source": [
        "Com 95% de confiança e 40% de suporte, se uma pessoa foi transportada então ela gastou pouco com serviço de quarto."
      ],
      "metadata": {
        "id": "iaQlB-EzYmcV"
      }
    },
    {
      "cell_type": "markdown",
      "source": [
        "# Classificação"
      ],
      "metadata": {
        "id": "5ieuocfaYzcn"
      }
    },
    {
      "cell_type": "markdown",
      "source": [
        "Importações"
      ],
      "metadata": {
        "id": "pPqsx6arZSR5"
      }
    },
    {
      "cell_type": "code",
      "source": [
        "# Importações\n",
        "#Modelos de aprendizado\n",
        "from sklearn.linear_model import LogisticRegression\n",
        "from sklearn.tree import DecisionTreeClassifier\n",
        "from sklearn.ensemble import RandomForestClassifier\n",
        "from sklearn.naive_bayes import GaussianNB\n",
        "from sklearn.neighbors import KNeighborsClassifier\n",
        "from sklearn.svm import SVC\n",
        "\n",
        "from sklearn.model_selection import GridSearchCV\n",
        "from sklearn.metrics import classification_report, confusion_matrix\n",
        "\n",
        "\n",
        "#Validacao cruzada\n",
        "from sklearn.model_selection import KFold\n",
        "from sklearn.model_selection import cross_val_score"
      ],
      "metadata": {
        "id": "Xz0W0PjvZTet"
      },
      "execution_count": null,
      "outputs": []
    },
    {
      "cell_type": "markdown",
      "source": [
        "Organizar Dados de treino"
      ],
      "metadata": {
        "id": "cffWhl3RZVCr"
      }
    },
    {
      "cell_type": "code",
      "source": [
        "# Base de Treino\n",
        "df.head()"
      ],
      "metadata": {
        "id": "uQ5uX46YZWf6"
      },
      "execution_count": null,
      "outputs": []
    },
    {
      "cell_type": "code",
      "source": [
        "# Dados de treino\n",
        "train_x = df.values[:,:-1]\n",
        "train_y = df.values[:, -1]\n",
        "\n",
        "print(train_x.shape, train_y.shape)"
      ],
      "metadata": {
        "id": "UDfRFAezZZwd"
      },
      "execution_count": null,
      "outputs": []
    },
    {
      "cell_type": "markdown",
      "source": [
        "Organizar Dados de teste"
      ],
      "metadata": {
        "id": "SSiQ3cZeZcL7"
      }
    },
    {
      "cell_type": "code",
      "source": [
        "# Ler dados de teste\n",
        "df = pd.read_csv(\"test.csv\")\n",
        "\n",
        "# Tamanho da base de Dados\n",
        "tamanho_do_df = len(df.index)\n",
        "print(\"Tamanho da base de teste:\", tamanho_do_df)\n",
        "\n",
        "print(\"Algumas instâncias da base de teste:\")\n",
        "df.head()"
      ],
      "metadata": {
        "id": "SyVLVcpZZdaz"
      },
      "execution_count": null,
      "outputs": []
    },
    {
      "cell_type": "code",
      "source": [
        "# Verificar se tem dados nulos\n",
        "df.count()"
      ],
      "metadata": {
        "id": "Vs9MQ2W3Zg5t"
      },
      "execution_count": null,
      "outputs": []
    },
    {
      "cell_type": "code",
      "source": [
        "# Preencher dados nulos nos nominais\n",
        "atributos = [\"HomePlanet\", \"CryoSleep\", \"Cabin\", \"Destination\", \"VIP\", \"Name\"]\n",
        "\n",
        "for atributo in atributos: \n",
        "  df[atributo] = imputers_nominais.transform(df[[atributo]])\n",
        "\n",
        "df.count()"
      ],
      "metadata": {
        "id": "bLtjRfUAZwLH"
      },
      "execution_count": null,
      "outputs": []
    },
    {
      "cell_type": "code",
      "source": [
        "# Preencher dados nulos Atributos Numéricos\n",
        "atributos = [\"Age\", \"RoomService\", \"FoodCourt\", \"ShoppingMall\", \"Spa\", \"VRDeck\"]\n",
        "for atributo in atributos: \n",
        "  df[atributo] = imputers_continuos[atributo].transform(df[[atributo]])\n",
        "\n",
        "df.count()"
      ],
      "metadata": {
        "id": "V12V0sfSaPF8"
      },
      "execution_count": null,
      "outputs": []
    },
    {
      "cell_type": "code",
      "source": [
        "def realizar_label_encoder(atributo, label_encoders, novo_valor=\"Desconhecido\"):\n",
        "  df[atributo] = df[atributo].map(lambda valor: novo_valor if valor not in label_encoders[atributo].classes_ else valor)\n",
        "  le_dict = dict(zip(label_encoders[atributo].classes_, label_encoders[atributo].transform(label_encoders[atributo].classes_)))\n",
        "  if le_dict.get(novo_valor, \"NaoAchou\") == \"NaoAchou\":\n",
        "    le_dict[novo_valor] = max(le_dict.values()) +1\n",
        "\n",
        "  df[atributo] = df[atributo].map(lambda valor: le_dict[valor]) # Fazer Label Encoder)"
      ],
      "metadata": {
        "id": "Y-zDktx0arlO"
      },
      "execution_count": null,
      "outputs": []
    },
    {
      "cell_type": "code",
      "source": [
        "# Realizar Label Encoder na base teste\n",
        "atributos_nominais = [\"HomePlanet\", \"CryoSleep\", \"Cabin\", \"Destination\", \"VIP\", \"Name\"]\n",
        "\n",
        "for atributo in atributos_nominais:\n",
        "  realizar_label_encoder(atributo, label_encoders)\n",
        "\n",
        "\n",
        "df.head()"
      ],
      "metadata": {
        "id": "039_Kc69a7zK"
      },
      "execution_count": null,
      "outputs": []
    },
    {
      "cell_type": "code",
      "source": [
        "# Realizar One Hot Encoder na base teste\n",
        "atributos_onehot = [\"HomePlanet\", \"CryoSleep\", \"Destination\", \"VIP\"]\n",
        "\n",
        "df = tranformar_onehot(df, hot_encoders, label_encoders, atributos_onehot)\n",
        "\n",
        "df.head()"
      ],
      "metadata": {
        "id": "hgut1fwcbVW5"
      },
      "execution_count": null,
      "outputs": []
    },
    {
      "cell_type": "code",
      "source": [
        "# Normalizar Base teste\n",
        "\n",
        "df = normalizar(df, scaler)\n",
        "\n",
        "df.head()"
      ],
      "metadata": {
        "id": "10MfXX8Rbskm"
      },
      "execution_count": null,
      "outputs": []
    },
    {
      "cell_type": "code",
      "source": [
        "# Fazer seleção de atributos base teste\n",
        "df.drop([\"PassengerId\", \"Name\"], axis=1, inplace=True)\n",
        "df.head()"
      ],
      "metadata": {
        "id": "Gv_hq3Odbu7O"
      },
      "execution_count": null,
      "outputs": []
    },
    {
      "cell_type": "code",
      "source": [
        "# Dados de teste\n",
        "test_x = df.values[:,:]\n",
        "\n",
        "\n",
        "print(test_x.shape)"
      ],
      "metadata": {
        "id": "n6NK1fNtbxb_"
      },
      "execution_count": null,
      "outputs": []
    },
    {
      "cell_type": "markdown",
      "source": [
        "Função para plotar a Matriz de Confusão"
      ],
      "metadata": {
        "id": "fQUddxWBb2jJ"
      }
    },
    {
      "cell_type": "code",
      "source": [
        "def plotar_matriz_de_confusao(matriz_de_confusao, predicao):\n",
        "  ax = sns.heatmap(matriz_de_confusao, annot=True, cmap='Blues')\n",
        "\n",
        "  ax.set_title('Seaborn Confusion Matrix with labels\\n\\n')\n",
        "  ax.set_xlabel('\\nPredicted Values')\n",
        "  ax.set_ylabel('Actual Values ')"
      ],
      "metadata": {
        "id": "5ypFbcvSb5Qe"
      },
      "execution_count": null,
      "outputs": []
    },
    {
      "cell_type": "markdown",
      "source": [
        "Modelo 1 - Regressão Logística"
      ],
      "metadata": {
        "id": "LQO8wX4Sb6-v"
      }
    },
    {
      "cell_type": "code",
      "source": [
        "# Treinamento\n",
        "modelo_regressao_logistica = LogisticRegression(C=0.2)\n",
        "modelo_regressao_logistica.fit(train_x, train_y)\n",
        "\n",
        "# KFolds\n",
        "cv = KFold(n_splits=10, random_state=1, shuffle=True)\n",
        "scores_regressao_logistica_accuracy = cross_val_score(modelo_regressao_logistica, train_x, train_y, scoring='accuracy', cv=cv)\n",
        "\n",
        "print(\"Regressão Logística\")\n",
        "print(\"Acurácia (Desvio Padrão)\")\n",
        "print('Acurácia Regressão Logística: %.3f (%.3f)' % (np.mean(scores_regressao_logistica_accuracy), np.std(scores_regressao_logistica_accuracy)))"
      ],
      "metadata": {
        "id": "9PVWXyCgb8ip"
      },
      "execution_count": null,
      "outputs": []
    },
    {
      "cell_type": "code",
      "source": [
        "# Predicao\n",
        "predicao_regresao_logistica = modelo_regressao_logistica.predict(test_x)\n",
        "\n",
        "#print(\"Matriz de Confusão Regressão Logística\")\n",
        "\n",
        "#matriz_confusao_regressao_logistica = confusion_matrix(y_true = list(yTest), y_pred = list(predicao_regresao_logistica), labels=[1,2])\n",
        "#plotar_matriz_de_confusao(matriz_confusao_regressao_logistica, predicao_regresao_logistica)"
      ],
      "metadata": {
        "id": "ryUgpl-Fc5x0"
      },
      "execution_count": null,
      "outputs": []
    },
    {
      "cell_type": "markdown",
      "source": [
        "Modelo 2 - Árvore de Decisão"
      ],
      "metadata": {
        "id": "EM8z-Lp1dt5Y"
      }
    },
    {
      "cell_type": "code",
      "source": [
        "# Treinamento\n",
        "\n",
        "modelo_arvore_de_decisao = DecisionTreeClassifier(min_samples_split=30)\n",
        "modelo_arvore_de_decisao.fit(train_x, train_y)\n",
        "\n",
        "# KFolds\n",
        "scores_arvore_de_decisao_accuracy = cross_val_score(modelo_arvore_de_decisao, train_x, train_y, scoring='accuracy', cv=cv)\n",
        "\n",
        "print(\"Árvore de Decisão\")\n",
        "print(\"Acurácia (Desvio Padrão)\")\n",
        "print('Acurácia Árvore de Decisão: %.3f (%.3f)' % (np.mean(scores_arvore_de_decisao_accuracy), np.std(scores_arvore_de_decisao_accuracy)))"
      ],
      "metadata": {
        "id": "djABGbkAdvb6"
      },
      "execution_count": null,
      "outputs": []
    },
    {
      "cell_type": "code",
      "source": [
        "# Predição\n",
        "predicao_arvore_de_decisao = modelo_arvore_de_decisao.predict(test_x)"
      ],
      "metadata": {
        "id": "cKwkA_trdzwD"
      },
      "execution_count": null,
      "outputs": []
    },
    {
      "cell_type": "markdown",
      "source": [
        "Modelo 3 - Random Forest"
      ],
      "metadata": {
        "id": "M-o0RiHsd04d"
      }
    },
    {
      "cell_type": "code",
      "source": [
        "# Treinamento\n",
        "modelo_random_forest = RandomForestClassifier(n_estimators=110)\n",
        "modelo_random_forest.fit(train_x, train_y)\n",
        "\n",
        "#Kfolds\n",
        "\n",
        "scores_random_forest_accuracy = cross_val_score(modelo_random_forest, train_x, train_y, scoring='accuracy', cv=cv)\n",
        "print(\"Random Forest\")\n",
        "print(\"Acurácia (Desvio Padrão)\")\n",
        "print('Acurácia Random Forest: %.3f (%.3f)' % (np.mean(scores_random_forest_accuracy), np.std(scores_random_forest_accuracy)))"
      ],
      "metadata": {
        "id": "0Vy4DfkTd2m9"
      },
      "execution_count": null,
      "outputs": []
    },
    {
      "cell_type": "code",
      "source": [
        "# Predicao\n",
        "predicao_random_forest = modelo_random_forest.predict(test_x)"
      ],
      "metadata": {
        "id": "qzPOvgaxd7Ad"
      },
      "execution_count": null,
      "outputs": []
    },
    {
      "cell_type": "markdown",
      "source": [
        "Modelo 4 - Naive Bayes -> GaussianNB"
      ],
      "metadata": {
        "id": "EVg4E3Eqd-Rd"
      }
    },
    {
      "cell_type": "code",
      "source": [
        "# Treinamento\n",
        "modelo_naive_bayes = GaussianNB()\n",
        "modelo_naive_bayes.fit(train_x, train_y)\n",
        "\n",
        "#Kfolds\n",
        "\n",
        "scores_naive_bayes_accuracy = cross_val_score(modelo_naive_bayes, train_x, train_y, scoring='accuracy', cv=cv)\n",
        "print(\"Naive Bayes Gaussian\")\n",
        "print(\"Acurácia (Desvio Padrão)\")\n",
        "print('Acurácia Naive Bayes Gaussian: %.3f (%.3f)' % (np.mean(scores_naive_bayes_accuracy), np.std(scores_naive_bayes_accuracy)))"
      ],
      "metadata": {
        "id": "EY-vkFtveBPf"
      },
      "execution_count": null,
      "outputs": []
    },
    {
      "cell_type": "code",
      "source": [
        "# Predicao\n",
        "predicao_naive_bayes = modelo_naive_bayes.predict(test_x)"
      ],
      "metadata": {
        "id": "56yJBfipeDzn"
      },
      "execution_count": null,
      "outputs": []
    },
    {
      "cell_type": "markdown",
      "source": [
        "Modelo 5 - KNN"
      ],
      "metadata": {
        "id": "wqkD13bbeGJt"
      }
    },
    {
      "cell_type": "code",
      "source": [
        "# Treinamento\n",
        "modelo_knn = KNeighborsClassifier()\n",
        "modelo_knn.fit(train_x, train_y)\n",
        "\n",
        "#Kfolds\n",
        "\n",
        "scores_knn_accuracy = cross_val_score(modelo_knn, train_x, train_y, scoring='accuracy', cv=cv)\n",
        "print(\"KNN\")\n",
        "print(\"Acurácia (Desvio Padrão)\")\n",
        "print('Acurácia KNN: %.3f (%.3f)' % (np.mean(scores_knn_accuracy), np.std(scores_knn_accuracy)))\n"
      ],
      "metadata": {
        "id": "KpyjVI2-eJwz"
      },
      "execution_count": null,
      "outputs": []
    },
    {
      "cell_type": "code",
      "source": [
        "#Predição\n",
        "predicao_knn = modelo_knn.predict(test_x)"
      ],
      "metadata": {
        "id": "XuJ1KJthePcs"
      },
      "execution_count": null,
      "outputs": []
    },
    {
      "cell_type": "markdown",
      "source": [
        "Modelo 6 - SVM"
      ],
      "metadata": {
        "id": "PIPXh2NseRmb"
      }
    },
    {
      "cell_type": "code",
      "source": [
        "# Treinamento\n",
        "\n",
        "# Definir Parâmetros\n",
        "param_grid = {'C': [0.1, 1, 10, 100, 1000], \n",
        "              'gamma': [1, 0.1, 0.01, 0.001, 0.0001],\n",
        "              'kernel': ['rbf']} \n",
        "  \n",
        "modelo_svm = GridSearchCV(SVC(), param_grid, refit = True, verbose = 3)\n",
        "modelo_svm.fit(train_x, train_y)\n",
        "\n",
        "#Kfolds\n",
        "\n",
        "scores_svm_accuracy = cross_val_score(modelo_svm, train_x, train_y, scoring='accuracy', cv=cv)\n",
        "print(\"SVM\")\n",
        "print(\"Acurácia (Desvio Padrão)\")\n",
        "print('Acurácia SVM: %.3f (%.3f)' % (np.mean(scores_svm_accuracy), np.std(scores_svm_accuracy)))"
      ],
      "metadata": {
        "colab": {
          "base_uri": "https://localhost:8080/"
        },
        "id": "q2CKtijdeSH1",
        "outputId": "c5b302cc-0998-46a7-e0ed-694eb1029909"
      },
      "execution_count": null,
      "outputs": [
        {
          "output_type": "stream",
          "name": "stdout",
          "text": [
            "Fitting 5 folds for each of 25 candidates, totalling 125 fits\n",
            "[CV 1/5] END ........C=0.1, gamma=1, kernel=rbf;, score=0.711 total time=   4.8s\n",
            "[CV 2/5] END ........C=0.1, gamma=1, kernel=rbf;, score=0.726 total time=   3.1s\n",
            "[CV 3/5] END ........C=0.1, gamma=1, kernel=rbf;, score=0.710 total time=   4.0s\n",
            "[CV 4/5] END ........C=0.1, gamma=1, kernel=rbf;, score=0.723 total time=   4.0s\n",
            "[CV 5/5] END ........C=0.1, gamma=1, kernel=rbf;, score=0.733 total time=   3.1s\n",
            "[CV 1/5] END ......C=0.1, gamma=0.1, kernel=rbf;, score=0.711 total time=   4.4s\n",
            "[CV 2/5] END ......C=0.1, gamma=0.1, kernel=rbf;, score=0.723 total time=   3.8s\n",
            "[CV 3/5] END ......C=0.1, gamma=0.1, kernel=rbf;, score=0.708 total time=   3.8s\n",
            "[CV 4/5] END ......C=0.1, gamma=0.1, kernel=rbf;, score=0.727 total time=   3.3s\n",
            "[CV 5/5] END ......C=0.1, gamma=0.1, kernel=rbf;, score=0.731 total time=   3.6s\n",
            "[CV 1/5] END .....C=0.1, gamma=0.01, kernel=rbf;, score=0.710 total time=   6.0s\n",
            "[CV 2/5] END .....C=0.1, gamma=0.01, kernel=rbf;, score=0.723 total time=   7.2s\n",
            "[CV 3/5] END .....C=0.1, gamma=0.01, kernel=rbf;, score=0.708 total time=   8.5s\n",
            "[CV 4/5] END .....C=0.1, gamma=0.01, kernel=rbf;, score=0.723 total time=   5.7s\n",
            "[CV 5/5] END .....C=0.1, gamma=0.01, kernel=rbf;, score=0.731 total time=   5.5s\n",
            "[CV 1/5] END ....C=0.1, gamma=0.001, kernel=rbf;, score=0.504 total time=   5.8s\n",
            "[CV 2/5] END ....C=0.1, gamma=0.001, kernel=rbf;, score=0.504 total time=   5.6s\n",
            "[CV 3/5] END ....C=0.1, gamma=0.001, kernel=rbf;, score=0.504 total time=   5.1s\n",
            "[CV 4/5] END ....C=0.1, gamma=0.001, kernel=rbf;, score=0.503 total time=   7.7s\n",
            "[CV 5/5] END ....C=0.1, gamma=0.001, kernel=rbf;, score=0.503 total time=   8.7s\n",
            "[CV 1/5] END ...C=0.1, gamma=0.0001, kernel=rbf;, score=0.504 total time=   5.4s\n",
            "[CV 2/5] END ...C=0.1, gamma=0.0001, kernel=rbf;, score=0.504 total time=   4.6s\n",
            "[CV 3/5] END ...C=0.1, gamma=0.0001, kernel=rbf;, score=0.504 total time=   7.4s\n",
            "[CV 4/5] END ...C=0.1, gamma=0.0001, kernel=rbf;, score=0.503 total time=   4.6s\n",
            "[CV 5/5] END ...C=0.1, gamma=0.0001, kernel=rbf;, score=0.503 total time=   4.7s\n",
            "[CV 1/5] END ..........C=1, gamma=1, kernel=rbf;, score=0.752 total time=   3.0s\n",
            "[CV 2/5] END ..........C=1, gamma=1, kernel=rbf;, score=0.761 total time=   3.0s\n",
            "[CV 3/5] END ..........C=1, gamma=1, kernel=rbf;, score=0.746 total time=   3.0s\n",
            "[CV 4/5] END ..........C=1, gamma=1, kernel=rbf;, score=0.753 total time=   3.0s\n",
            "[CV 5/5] END ..........C=1, gamma=1, kernel=rbf;, score=0.766 total time=   3.1s\n",
            "[CV 1/5] END ........C=1, gamma=0.1, kernel=rbf;, score=0.726 total time=   2.8s\n",
            "[CV 2/5] END ........C=1, gamma=0.1, kernel=rbf;, score=0.734 total time=   2.8s\n",
            "[CV 3/5] END ........C=1, gamma=0.1, kernel=rbf;, score=0.724 total time=   2.8s\n",
            "[CV 4/5] END ........C=1, gamma=0.1, kernel=rbf;, score=0.741 total time=   2.9s\n",
            "[CV 5/5] END ........C=1, gamma=0.1, kernel=rbf;, score=0.748 total time=   2.9s\n",
            "[CV 1/5] END .......C=1, gamma=0.01, kernel=rbf;, score=0.711 total time=   2.9s\n",
            "[CV 2/5] END .......C=1, gamma=0.01, kernel=rbf;, score=0.722 total time=   3.2s\n",
            "[CV 3/5] END .......C=1, gamma=0.01, kernel=rbf;, score=0.708 total time=   2.9s\n",
            "[CV 4/5] END .......C=1, gamma=0.01, kernel=rbf;, score=0.723 total time=   3.1s\n",
            "[CV 5/5] END .......C=1, gamma=0.01, kernel=rbf;, score=0.730 total time=   3.2s\n",
            "[CV 1/5] END ......C=1, gamma=0.001, kernel=rbf;, score=0.712 total time=   3.5s\n",
            "[CV 2/5] END ......C=1, gamma=0.001, kernel=rbf;, score=0.723 total time=   3.5s\n",
            "[CV 3/5] END ......C=1, gamma=0.001, kernel=rbf;, score=0.708 total time=   3.5s\n",
            "[CV 4/5] END ......C=1, gamma=0.001, kernel=rbf;, score=0.723 total time=   3.6s\n",
            "[CV 5/5] END ......C=1, gamma=0.001, kernel=rbf;, score=0.731 total time=   3.7s\n",
            "[CV 1/5] END .....C=1, gamma=0.0001, kernel=rbf;, score=0.504 total time=   4.6s\n",
            "[CV 2/5] END .....C=1, gamma=0.0001, kernel=rbf;, score=0.504 total time=   5.9s\n",
            "[CV 3/5] END .....C=1, gamma=0.0001, kernel=rbf;, score=0.504 total time=   4.7s\n",
            "[CV 4/5] END .....C=1, gamma=0.0001, kernel=rbf;, score=0.503 total time=   4.5s\n",
            "[CV 5/5] END .....C=1, gamma=0.0001, kernel=rbf;, score=0.503 total time=   4.6s\n",
            "[CV 1/5] END .........C=10, gamma=1, kernel=rbf;, score=0.763 total time=   3.0s\n",
            "[CV 2/5] END .........C=10, gamma=1, kernel=rbf;, score=0.775 total time=   3.0s\n",
            "[CV 3/5] END .........C=10, gamma=1, kernel=rbf;, score=0.763 total time=   3.0s\n",
            "[CV 4/5] END .........C=10, gamma=1, kernel=rbf;, score=0.777 total time=   3.0s\n",
            "[CV 5/5] END .........C=10, gamma=1, kernel=rbf;, score=0.780 total time=   3.1s\n",
            "[CV 1/5] END .......C=10, gamma=0.1, kernel=rbf;, score=0.762 total time=   2.8s\n",
            "[CV 2/5] END .......C=10, gamma=0.1, kernel=rbf;, score=0.766 total time=   2.8s\n",
            "[CV 3/5] END .......C=10, gamma=0.1, kernel=rbf;, score=0.758 total time=   2.7s\n",
            "[CV 4/5] END .......C=10, gamma=0.1, kernel=rbf;, score=0.763 total time=   2.7s\n",
            "[CV 5/5] END .......C=10, gamma=0.1, kernel=rbf;, score=0.778 total time=   2.9s\n",
            "[CV 1/5] END ......C=10, gamma=0.01, kernel=rbf;, score=0.731 total time=   2.8s\n",
            "[CV 2/5] END ......C=10, gamma=0.01, kernel=rbf;, score=0.735 total time=   2.8s\n",
            "[CV 3/5] END ......C=10, gamma=0.01, kernel=rbf;, score=0.728 total time=   2.9s\n",
            "[CV 4/5] END ......C=10, gamma=0.01, kernel=rbf;, score=0.742 total time=   2.8s\n",
            "[CV 5/5] END ......C=10, gamma=0.01, kernel=rbf;, score=0.749 total time=   2.9s\n",
            "[CV 1/5] END .....C=10, gamma=0.001, kernel=rbf;, score=0.711 total time=   3.0s\n",
            "[CV 2/5] END .....C=10, gamma=0.001, kernel=rbf;, score=0.722 total time=   3.1s\n",
            "[CV 3/5] END .....C=10, gamma=0.001, kernel=rbf;, score=0.708 total time=   2.9s\n",
            "[CV 4/5] END .....C=10, gamma=0.001, kernel=rbf;, score=0.723 total time=   3.1s\n",
            "[CV 5/5] END .....C=10, gamma=0.001, kernel=rbf;, score=0.730 total time=   3.0s\n",
            "[CV 1/5] END ....C=10, gamma=0.0001, kernel=rbf;, score=0.712 total time=   3.6s\n",
            "[CV 2/5] END ....C=10, gamma=0.0001, kernel=rbf;, score=0.724 total time=   3.6s\n",
            "[CV 3/5] END ....C=10, gamma=0.0001, kernel=rbf;, score=0.708 total time=   3.6s\n",
            "[CV 4/5] END ....C=10, gamma=0.0001, kernel=rbf;, score=0.723 total time=   3.6s\n",
            "[CV 5/5] END ....C=10, gamma=0.0001, kernel=rbf;, score=0.731 total time=   3.6s\n",
            "[CV 1/5] END ........C=100, gamma=1, kernel=rbf;, score=0.771 total time=   3.9s\n",
            "[CV 2/5] END ........C=100, gamma=1, kernel=rbf;, score=0.776 total time=   4.1s\n",
            "[CV 3/5] END ........C=100, gamma=1, kernel=rbf;, score=0.769 total time=   3.8s\n",
            "[CV 4/5] END ........C=100, gamma=1, kernel=rbf;, score=0.793 total time=   4.0s\n",
            "[CV 5/5] END ........C=100, gamma=1, kernel=rbf;, score=0.793 total time=   3.7s\n",
            "[CV 1/5] END ......C=100, gamma=0.1, kernel=rbf;, score=0.782 total time=   2.9s\n",
            "[CV 2/5] END ......C=100, gamma=0.1, kernel=rbf;, score=0.778 total time=   3.0s\n",
            "[CV 3/5] END ......C=100, gamma=0.1, kernel=rbf;, score=0.771 total time=   3.0s\n",
            "[CV 4/5] END ......C=100, gamma=0.1, kernel=rbf;, score=0.788 total time=   2.9s\n",
            "[CV 5/5] END ......C=100, gamma=0.1, kernel=rbf;, score=0.792 total time=   3.1s\n",
            "[CV 1/5] END .....C=100, gamma=0.01, kernel=rbf;, score=0.755 total time=   2.9s\n",
            "[CV 2/5] END .....C=100, gamma=0.01, kernel=rbf;, score=0.757 total time=   2.8s\n",
            "[CV 3/5] END .....C=100, gamma=0.01, kernel=rbf;, score=0.750 total time=   2.8s\n",
            "[CV 4/5] END .....C=100, gamma=0.01, kernel=rbf;, score=0.757 total time=   2.9s\n",
            "[CV 5/5] END .....C=100, gamma=0.01, kernel=rbf;, score=0.772 total time=   3.7s\n",
            "[CV 1/5] END ....C=100, gamma=0.001, kernel=rbf;, score=0.729 total time=   2.9s\n",
            "[CV 2/5] END ....C=100, gamma=0.001, kernel=rbf;, score=0.737 total time=   2.8s\n",
            "[CV 3/5] END ....C=100, gamma=0.001, kernel=rbf;, score=0.726 total time=   2.8s\n",
            "[CV 4/5] END ....C=100, gamma=0.001, kernel=rbf;, score=0.739 total time=   2.8s\n",
            "[CV 5/5] END ....C=100, gamma=0.001, kernel=rbf;, score=0.746 total time=   2.9s\n",
            "[CV 1/5] END ...C=100, gamma=0.0001, kernel=rbf;, score=0.711 total time=   2.9s\n",
            "[CV 2/5] END ...C=100, gamma=0.0001, kernel=rbf;, score=0.722 total time=   3.1s\n",
            "[CV 3/5] END ...C=100, gamma=0.0001, kernel=rbf;, score=0.708 total time=   3.0s\n",
            "[CV 4/5] END ...C=100, gamma=0.0001, kernel=rbf;, score=0.723 total time=   3.1s\n",
            "[CV 5/5] END ...C=100, gamma=0.0001, kernel=rbf;, score=0.730 total time=   3.2s\n",
            "[CV 1/5] END .......C=1000, gamma=1, kernel=rbf;, score=0.773 total time=  11.8s\n",
            "[CV 2/5] END .......C=1000, gamma=1, kernel=rbf;, score=0.775 total time=  10.1s\n",
            "[CV 3/5] END .......C=1000, gamma=1, kernel=rbf;, score=0.770 total time=  11.5s\n",
            "[CV 4/5] END .......C=1000, gamma=1, kernel=rbf;, score=0.780 total time=   9.7s\n",
            "[CV 5/5] END .......C=1000, gamma=1, kernel=rbf;, score=0.784 total time=  11.0s\n",
            "[CV 1/5] END .....C=1000, gamma=0.1, kernel=rbf;, score=0.779 total time=   4.3s\n",
            "[CV 2/5] END .....C=1000, gamma=0.1, kernel=rbf;, score=0.777 total time=   4.4s\n",
            "[CV 3/5] END .....C=1000, gamma=0.1, kernel=rbf;, score=0.779 total time=   4.2s\n",
            "[CV 4/5] END .....C=1000, gamma=0.1, kernel=rbf;, score=0.787 total time=   4.1s\n",
            "[CV 5/5] END .....C=1000, gamma=0.1, kernel=rbf;, score=0.797 total time=   4.3s\n",
            "[CV 1/5] END ....C=1000, gamma=0.01, kernel=rbf;, score=0.776 total time=   3.2s\n",
            "[CV 2/5] END ....C=1000, gamma=0.01, kernel=rbf;, score=0.781 total time=   3.2s\n",
            "[CV 3/5] END ....C=1000, gamma=0.01, kernel=rbf;, score=0.775 total time=   3.1s\n",
            "[CV 4/5] END ....C=1000, gamma=0.01, kernel=rbf;, score=0.788 total time=   3.2s\n",
            "[CV 5/5] END ....C=1000, gamma=0.01, kernel=rbf;, score=0.797 total time=   3.2s\n",
            "[CV 1/5] END ...C=1000, gamma=0.001, kernel=rbf;, score=0.755 total time=   3.0s\n",
            "[CV 2/5] END ...C=1000, gamma=0.001, kernel=rbf;, score=0.756 total time=   3.0s\n",
            "[CV 3/5] END ...C=1000, gamma=0.001, kernel=rbf;, score=0.747 total time=   2.9s\n",
            "[CV 4/5] END ...C=1000, gamma=0.001, kernel=rbf;, score=0.761 total time=   2.9s\n",
            "[CV 5/5] END ...C=1000, gamma=0.001, kernel=rbf;, score=0.770 total time=   3.0s\n",
            "[CV 1/5] END ..C=1000, gamma=0.0001, kernel=rbf;, score=0.729 total time=   3.8s\n",
            "[CV 2/5] END ..C=1000, gamma=0.0001, kernel=rbf;, score=0.737 total time=   2.9s\n",
            "[CV 3/5] END ..C=1000, gamma=0.0001, kernel=rbf;, score=0.726 total time=   2.9s\n",
            "[CV 4/5] END ..C=1000, gamma=0.0001, kernel=rbf;, score=0.739 total time=   2.9s\n",
            "[CV 5/5] END ..C=1000, gamma=0.0001, kernel=rbf;, score=0.746 total time=   3.0s\n",
            "Fitting 5 folds for each of 25 candidates, totalling 125 fits\n",
            "[CV 1/5] END ........C=0.1, gamma=1, kernel=rbf;, score=0.713 total time=   2.4s\n",
            "[CV 2/5] END ........C=0.1, gamma=1, kernel=rbf;, score=0.721 total time=   2.4s\n",
            "[CV 3/5] END ........C=0.1, gamma=1, kernel=rbf;, score=0.712 total time=   2.4s\n",
            "[CV 4/5] END ........C=0.1, gamma=1, kernel=rbf;, score=0.721 total time=   2.4s\n",
            "[CV 5/5] END ........C=0.1, gamma=1, kernel=rbf;, score=0.735 total time=   2.5s\n",
            "[CV 1/5] END ......C=0.1, gamma=0.1, kernel=rbf;, score=0.709 total time=   2.3s\n",
            "[CV 2/5] END ......C=0.1, gamma=0.1, kernel=rbf;, score=0.721 total time=   2.3s\n",
            "[CV 3/5] END ......C=0.1, gamma=0.1, kernel=rbf;, score=0.707 total time=   2.3s\n",
            "[CV 4/5] END ......C=0.1, gamma=0.1, kernel=rbf;, score=0.719 total time=   2.4s\n",
            "[CV 5/5] END ......C=0.1, gamma=0.1, kernel=rbf;, score=0.739 total time=   2.5s\n",
            "[CV 1/5] END .....C=0.1, gamma=0.01, kernel=rbf;, score=0.710 total time=   2.8s\n",
            "[CV 2/5] END .....C=0.1, gamma=0.01, kernel=rbf;, score=0.722 total time=   2.8s\n",
            "[CV 3/5] END .....C=0.1, gamma=0.01, kernel=rbf;, score=0.707 total time=   2.9s\n",
            "[CV 4/5] END .....C=0.1, gamma=0.01, kernel=rbf;, score=0.719 total time=   3.0s\n",
            "[CV 5/5] END .....C=0.1, gamma=0.01, kernel=rbf;, score=0.740 total time=   3.0s\n",
            "[CV 1/5] END ....C=0.1, gamma=0.001, kernel=rbf;, score=0.504 total time=   3.7s\n",
            "[CV 2/5] END ....C=0.1, gamma=0.001, kernel=rbf;, score=0.504 total time=   3.6s\n",
            "[CV 3/5] END ....C=0.1, gamma=0.001, kernel=rbf;, score=0.504 total time=   3.7s\n",
            "[CV 4/5] END ....C=0.1, gamma=0.001, kernel=rbf;, score=0.504 total time=   3.6s\n",
            "[CV 5/5] END ....C=0.1, gamma=0.001, kernel=rbf;, score=0.504 total time=   3.6s\n",
            "[CV 1/5] END ...C=0.1, gamma=0.0001, kernel=rbf;, score=0.504 total time=   3.6s\n",
            "[CV 2/5] END ...C=0.1, gamma=0.0001, kernel=rbf;, score=0.504 total time=   3.7s\n",
            "[CV 3/5] END ...C=0.1, gamma=0.0001, kernel=rbf;, score=0.504 total time=   3.8s\n",
            "[CV 4/5] END ...C=0.1, gamma=0.0001, kernel=rbf;, score=0.504 total time=   3.7s\n",
            "[CV 5/5] END ...C=0.1, gamma=0.0001, kernel=rbf;, score=0.504 total time=   3.6s\n",
            "[CV 1/5] END ..........C=1, gamma=1, kernel=rbf;, score=0.753 total time=   2.4s\n",
            "[CV 2/5] END ..........C=1, gamma=1, kernel=rbf;, score=0.762 total time=   2.5s\n",
            "[CV 3/5] END ..........C=1, gamma=1, kernel=rbf;, score=0.741 total time=   2.4s\n",
            "[CV 4/5] END ..........C=1, gamma=1, kernel=rbf;, score=0.749 total time=   2.3s\n",
            "[CV 5/5] END ..........C=1, gamma=1, kernel=rbf;, score=0.771 total time=   2.5s\n",
            "[CV 1/5] END ........C=1, gamma=0.1, kernel=rbf;, score=0.724 total time=   2.3s\n",
            "[CV 2/5] END ........C=1, gamma=0.1, kernel=rbf;, score=0.733 total time=   2.3s\n",
            "[CV 3/5] END ........C=1, gamma=0.1, kernel=rbf;, score=0.721 total time=   2.2s\n",
            "[CV 4/5] END ........C=1, gamma=0.1, kernel=rbf;, score=0.734 total time=   2.3s\n",
            "[CV 5/5] END ........C=1, gamma=0.1, kernel=rbf;, score=0.745 total time=   2.4s\n",
            "[CV 1/5] END .......C=1, gamma=0.01, kernel=rbf;, score=0.710 total time=   2.4s\n",
            "[CV 2/5] END .......C=1, gamma=0.01, kernel=rbf;, score=0.718 total time=   2.4s\n",
            "[CV 3/5] END .......C=1, gamma=0.01, kernel=rbf;, score=0.707 total time=   2.4s\n",
            "[CV 4/5] END .......C=1, gamma=0.01, kernel=rbf;, score=0.719 total time=   2.3s\n",
            "[CV 5/5] END .......C=1, gamma=0.01, kernel=rbf;, score=0.735 total time=   2.4s\n",
            "[CV 1/5] END ......C=1, gamma=0.001, kernel=rbf;, score=0.710 total time=   2.9s\n",
            "[CV 2/5] END ......C=1, gamma=0.001, kernel=rbf;, score=0.719 total time=   3.1s\n",
            "[CV 3/5] END ......C=1, gamma=0.001, kernel=rbf;, score=0.707 total time=   3.1s\n",
            "[CV 4/5] END ......C=1, gamma=0.001, kernel=rbf;, score=0.719 total time=   3.8s\n",
            "[CV 5/5] END ......C=1, gamma=0.001, kernel=rbf;, score=0.738 total time=   3.0s\n",
            "[CV 1/5] END .....C=1, gamma=0.0001, kernel=rbf;, score=0.504 total time=   3.7s\n",
            "[CV 2/5] END .....C=1, gamma=0.0001, kernel=rbf;, score=0.504 total time=   3.7s\n",
            "[CV 3/5] END .....C=1, gamma=0.0001, kernel=rbf;, score=0.504 total time=   3.6s\n",
            "[CV 4/5] END .....C=1, gamma=0.0001, kernel=rbf;, score=0.504 total time=   3.6s\n",
            "[CV 5/5] END .....C=1, gamma=0.0001, kernel=rbf;, score=0.504 total time=   3.6s\n",
            "[CV 1/5] END .........C=10, gamma=1, kernel=rbf;, score=0.762 total time=   2.4s\n",
            "[CV 2/5] END .........C=10, gamma=1, kernel=rbf;, score=0.774 total time=   2.4s\n",
            "[CV 3/5] END .........C=10, gamma=1, kernel=rbf;, score=0.758 total time=   2.4s\n",
            "[CV 4/5] END .........C=10, gamma=1, kernel=rbf;, score=0.772 total time=   2.4s\n",
            "[CV 5/5] END .........C=10, gamma=1, kernel=rbf;, score=0.779 total time=   2.5s\n",
            "[CV 1/5] END .......C=10, gamma=0.1, kernel=rbf;, score=0.759 total time=   2.3s\n",
            "[CV 2/5] END .......C=10, gamma=0.1, kernel=rbf;, score=0.765 total time=   2.2s\n",
            "[CV 3/5] END .......C=10, gamma=0.1, kernel=rbf;, score=0.752 total time=   2.2s\n",
            "[CV 4/5] END .......C=10, gamma=0.1, kernel=rbf;, score=0.756 total time=   2.2s\n",
            "[CV 5/5] END .......C=10, gamma=0.1, kernel=rbf;, score=0.778 total time=   2.3s\n",
            "[CV 1/5] END ......C=10, gamma=0.01, kernel=rbf;, score=0.728 total time=   2.3s\n",
            "[CV 2/5] END ......C=10, gamma=0.01, kernel=rbf;, score=0.730 total time=   2.3s\n",
            "[CV 3/5] END ......C=10, gamma=0.01, kernel=rbf;, score=0.719 total time=   2.3s\n",
            "[CV 4/5] END ......C=10, gamma=0.01, kernel=rbf;, score=0.730 total time=   2.3s\n",
            "[CV 5/5] END ......C=10, gamma=0.01, kernel=rbf;, score=0.742 total time=   2.4s\n",
            "[CV 1/5] END .....C=10, gamma=0.001, kernel=rbf;, score=0.710 total time=   2.4s\n",
            "[CV 2/5] END .....C=10, gamma=0.001, kernel=rbf;, score=0.718 total time=   2.4s\n",
            "[CV 3/5] END .....C=10, gamma=0.001, kernel=rbf;, score=0.707 total time=   2.4s\n",
            "[CV 4/5] END .....C=10, gamma=0.001, kernel=rbf;, score=0.719 total time=   2.4s\n",
            "[CV 5/5] END .....C=10, gamma=0.001, kernel=rbf;, score=0.735 total time=   2.5s\n",
            "[CV 1/5] END ....C=10, gamma=0.0001, kernel=rbf;, score=0.710 total time=   2.9s\n",
            "[CV 2/5] END ....C=10, gamma=0.0001, kernel=rbf;, score=0.719 total time=   3.0s\n",
            "[CV 3/5] END ....C=10, gamma=0.0001, kernel=rbf;, score=0.707 total time=   3.0s\n",
            "[CV 4/5] END ....C=10, gamma=0.0001, kernel=rbf;, score=0.719 total time=   3.0s\n",
            "[CV 5/5] END ....C=10, gamma=0.0001, kernel=rbf;, score=0.738 total time=   3.0s\n",
            "[CV 1/5] END ........C=100, gamma=1, kernel=rbf;, score=0.771 total time=   3.4s\n",
            "[CV 2/5] END ........C=100, gamma=1, kernel=rbf;, score=0.785 total time=   3.3s\n",
            "[CV 3/5] END ........C=100, gamma=1, kernel=rbf;, score=0.762 total time=   3.2s\n",
            "[CV 4/5] END ........C=100, gamma=1, kernel=rbf;, score=0.777 total time=   3.1s\n",
            "[CV 5/5] END ........C=100, gamma=1, kernel=rbf;, score=0.789 total time=   3.1s\n",
            "[CV 1/5] END ......C=100, gamma=0.1, kernel=rbf;, score=0.782 total time=   2.4s\n",
            "[CV 2/5] END ......C=100, gamma=0.1, kernel=rbf;, score=0.780 total time=   2.5s\n",
            "[CV 3/5] END ......C=100, gamma=0.1, kernel=rbf;, score=0.770 total time=   2.3s\n",
            "[CV 4/5] END ......C=100, gamma=0.1, kernel=rbf;, score=0.786 total time=   2.4s\n",
            "[CV 5/5] END ......C=100, gamma=0.1, kernel=rbf;, score=0.794 total time=   2.5s\n",
            "[CV 1/5] END .....C=100, gamma=0.01, kernel=rbf;, score=0.751 total time=   2.3s\n",
            "[CV 2/5] END .....C=100, gamma=0.01, kernel=rbf;, score=0.755 total time=   2.3s\n",
            "[CV 3/5] END .....C=100, gamma=0.01, kernel=rbf;, score=0.748 total time=   2.3s\n",
            "[CV 4/5] END .....C=100, gamma=0.01, kernel=rbf;, score=0.753 total time=   2.3s\n",
            "[CV 5/5] END .....C=100, gamma=0.01, kernel=rbf;, score=0.772 total time=   2.4s\n",
            "[CV 1/5] END ....C=100, gamma=0.001, kernel=rbf;, score=0.727 total time=   2.4s\n",
            "[CV 2/5] END ....C=100, gamma=0.001, kernel=rbf;, score=0.729 total time=   2.3s\n",
            "[CV 3/5] END ....C=100, gamma=0.001, kernel=rbf;, score=0.718 total time=   2.3s\n",
            "[CV 4/5] END ....C=100, gamma=0.001, kernel=rbf;, score=0.729 total time=   2.3s\n",
            "[CV 5/5] END ....C=100, gamma=0.001, kernel=rbf;, score=0.742 total time=   2.4s\n",
            "[CV 1/5] END ...C=100, gamma=0.0001, kernel=rbf;, score=0.710 total time=   2.5s\n",
            "[CV 2/5] END ...C=100, gamma=0.0001, kernel=rbf;, score=0.718 total time=   2.9s\n",
            "[CV 3/5] END ...C=100, gamma=0.0001, kernel=rbf;, score=0.707 total time=   2.4s\n",
            "[CV 4/5] END ...C=100, gamma=0.0001, kernel=rbf;, score=0.719 total time=   2.3s\n",
            "[CV 5/5] END ...C=100, gamma=0.0001, kernel=rbf;, score=0.735 total time=   2.5s\n",
            "[CV 1/5] END .......C=1000, gamma=1, kernel=rbf;, score=0.771 total time=   8.3s\n",
            "[CV 2/5] END .......C=1000, gamma=1, kernel=rbf;, score=0.781 total time=   8.0s\n",
            "[CV 3/5] END .......C=1000, gamma=1, kernel=rbf;, score=0.771 total time=   7.9s\n",
            "[CV 4/5] END .......C=1000, gamma=1, kernel=rbf;, score=0.777 total time=   6.5s\n",
            "[CV 5/5] END .......C=1000, gamma=1, kernel=rbf;, score=0.779 total time=   9.7s\n",
            "[CV 1/5] END .....C=1000, gamma=0.1, kernel=rbf;, score=0.780 total time=   4.2s\n",
            "[CV 2/5] END .....C=1000, gamma=0.1, kernel=rbf;, score=0.778 total time=   4.4s\n",
            "[CV 3/5] END .....C=1000, gamma=0.1, kernel=rbf;, score=0.778 total time=   3.5s\n",
            "[CV 4/5] END .....C=1000, gamma=0.1, kernel=rbf;, score=0.788 total time=   3.3s\n",
            "[CV 5/5] END .....C=1000, gamma=0.1, kernel=rbf;, score=0.792 total time=   3.7s\n",
            "[CV 1/5] END ....C=1000, gamma=0.01, kernel=rbf;, score=0.778 total time=   2.6s\n",
            "[CV 2/5] END ....C=1000, gamma=0.01, kernel=rbf;, score=0.781 total time=   2.6s\n",
            "[CV 3/5] END ....C=1000, gamma=0.01, kernel=rbf;, score=0.778 total time=   2.6s\n",
            "[CV 4/5] END ....C=1000, gamma=0.01, kernel=rbf;, score=0.786 total time=   2.6s\n",
            "[CV 5/5] END ....C=1000, gamma=0.01, kernel=rbf;, score=0.795 total time=   2.7s\n",
            "[CV 1/5] END ...C=1000, gamma=0.001, kernel=rbf;, score=0.750 total time=   2.5s\n",
            "[CV 2/5] END ...C=1000, gamma=0.001, kernel=rbf;, score=0.755 total time=   2.5s\n",
            "[CV 3/5] END ...C=1000, gamma=0.001, kernel=rbf;, score=0.742 total time=   2.4s\n",
            "[CV 4/5] END ...C=1000, gamma=0.001, kernel=rbf;, score=0.757 total time=   2.3s\n"
          ]
        }
      ]
    },
    {
      "cell_type": "code",
      "source": [
        "# Printar os Melhores Parâmetros e Estimadores\n",
        "print(modelo_svm.best_params_)\n",
        "print(modelo_svm.best_estimator_)"
      ],
      "metadata": {
        "id": "CV9UtARAeV8c"
      },
      "execution_count": null,
      "outputs": []
    },
    {
      "cell_type": "code",
      "source": [
        "# Predicao\n",
        "predicao_svm = modelo_svm.predict(test_x)"
      ],
      "metadata": {
        "id": "ugLvsIG3eYW_"
      },
      "execution_count": null,
      "outputs": []
    },
    {
      "cell_type": "markdown",
      "source": [
        "# Modelo Extra - Rede Neural"
      ],
      "metadata": {
        "id": "AoQu8ef3eZJs"
      }
    },
    {
      "cell_type": "markdown",
      "source": [
        "Importações"
      ],
      "metadata": {
        "id": "UuiOSyYrecXt"
      }
    },
    {
      "cell_type": "code",
      "source": [
        "import os\n",
        "import cv2\n",
        "from keras.models import Sequential\n",
        "from tensorflow.keras import layers, models\n",
        "from keras.layers import  Dropout\n",
        "from tensorflow.keras import regularizers\n",
        "from tensorflow.keras.wrappers.scikit_learn import KerasClassifier\n",
        "from sklearn import model_selection"
      ],
      "metadata": {
        "id": "SGVNngPDec8N"
      },
      "execution_count": null,
      "outputs": []
    },
    {
      "cell_type": "code",
      "source": [
        "train_x.shape"
      ],
      "metadata": {
        "id": "7DsVoiP1eexe"
      },
      "execution_count": null,
      "outputs": []
    },
    {
      "cell_type": "code",
      "source": [
        "# Montar Modelo\n",
        "FEATURES = train_x.shape[1]\n",
        "model1 = models.Sequential()\n",
        "\n",
        "model1.add(layers.InputLayer(input_shape=FEATURES))\n",
        "model1.add(layers.Dense(512, kernel_regularizer=regularizers.l2(0.0001),\n",
        "                 activation='elu'))\n",
        "\n",
        "\n",
        "model1.add(layers.Dense(256, kernel_regularizer=regularizers.l2(0.0001),\n",
        "                 activation='elu'))\n",
        "\n",
        "\n",
        "\n",
        "model1.add(layers.Dense(128, kernel_regularizer=regularizers.l2(0.0001),\n",
        "                 activation='elu'))\n",
        "\n",
        "\n",
        "model1.add(layers.Dense(64, kernel_regularizer=regularizers.l2(0.0001),\n",
        "                 activation='elu'))\n",
        "\n",
        "model1.add(layers.Dense(32, kernel_regularizer=regularizers.l2(0.0001),\n",
        "                 activation='elu'))\n",
        "\n",
        "\"\"\"model1.add(layers.Dense(512, kernel_regularizer=regularizers.l2(0.0001),\n",
        "                 activation='elu'))\n",
        "\n",
        "model1.add(layers.Dropout(0.5))\n",
        "\n",
        "model1.add(layers.Dense(512, kernel_regularizer=regularizers.l2(0.0001),\n",
        "                 activation='elu'))\n",
        "\n",
        "model1.add(layers.Dropout(0.5))\n",
        "\n",
        "model1.add(layers.Dense(512, kernel_regularizer=regularizers.l2(0.0001),\n",
        "                 activation='elu'))\n",
        "\n",
        "model1.add(layers.Dropout(0.5))\n",
        "\n",
        "model1.add(layers.Dense(512, kernel_regularizer=regularizers.l2(0.0001),\n",
        "                 activation='elu'))\n",
        "\n",
        "model1.add(layers.Dropout(0.5))\n",
        "\n",
        "model1.add(layers.Dense(512, kernel_regularizer=regularizers.l2(0.0001),\n",
        "                 activation='elu'))\n",
        "\n",
        "model1.add(layers.Dropout(0.5))\"\"\"\n",
        "\n",
        "\n",
        "model1.add(layers.Dense(2, activation='softmax', name='CamadaClassificacao'))\n",
        "                       \n",
        "model1.summary()\n",
        "\n",
        "# Compilar\n",
        "model1.compile(loss='sparse_categorical_crossentropy', optimizer='adam', metrics=['accuracy'])\n",
        "\n",
        "#Treinar\n",
        "model1.fit(train_x, train_y, epochs=1000)\n",
        "\n",
        "# Predição\n",
        "#Obter Resultados\n",
        "y_pred = model1.predict(test_x, verbose=1)\n",
        "predicao_rede_neural = np.argmax(y_pred, axis=1)\n",
        "\n",
        "print(list(predicao_rede_neural))"
      ],
      "metadata": {
        "id": "AV0uixcCehEn"
      },
      "execution_count": null,
      "outputs": []
    },
    {
      "cell_type": "markdown",
      "source": [
        "Gerar Arquivo de predição do Kaggle"
      ],
      "metadata": {
        "id": "ndbtacpvejxB"
      }
    },
    {
      "cell_type": "code",
      "source": [
        "new_df = pd.read_csv(\"test.csv\")\n",
        "\n",
        "output = pd.DataFrame({'PassengerId': new_df.PassengerId, 'Survived': predicao_rede_neural})\n",
        "output.to_csv('submission.csv', index=False)\n",
        "print(\"Predictions Saved\")"
      ],
      "metadata": {
        "id": "sRFonCiRerh4"
      },
      "execution_count": null,
      "outputs": []
    }
  ]
}